{
 "cells": [
  {
   "cell_type": "code",
   "execution_count": 1,
   "id": "2a7841ef-8335-4e6f-9523-9404049bcfc7",
   "metadata": {},
   "outputs": [],
   "source": [
    "import numpy as np \n",
    "import pandas as pd\n",
    "import seaborn as sns\n",
    "import matplotlib.pyplot as plt\n",
    "import os"
   ]
  },
  {
   "cell_type": "code",
   "execution_count": 2,
   "id": "03f606ae-215c-4a99-8852-e45e2a4b82c9",
   "metadata": {},
   "outputs": [],
   "source": [
    "import json\n",
    "import folium\n",
    "from folium import plugins\n",
    "from folium.plugins import MarkerCluster, Search\n",
    "\n",
    "import shapely\n",
    "from shapely.geometry import shape, Point"
   ]
  },
  {
   "cell_type": "code",
   "execution_count": 108,
   "id": "745ec216-e5a7-4158-bcc7-01a669f513ba",
   "metadata": {},
   "outputs": [],
   "source": [
    "from sklearn.model_selection import train_test_split\n",
    "from sklearn.preprocessing import LabelEncoder\n",
    "from sklearn.ensemble import RandomForestClassifier\n",
    "from sklearn.linear_model import LogisticRegression, SGDClassifier\n",
    "from sklearn.svm import SVC\n",
    "from sklearn.metrics import classification_report\n",
    "from xgboost import XGBClassifier\n",
    "from imblearn.over_sampling import RandomOverSampler\n",
    "from tensorflow.keras.models import Sequential\n",
    "from tensorflow.keras.layers import Dense"
   ]
  },
  {
   "cell_type": "code",
   "execution_count": 3,
   "id": "d082c7de-37f1-4795-982a-26960f4374ce",
   "metadata": {},
   "outputs": [],
   "source": [
    "data = pd.read_csv('Food_data.csv')"
   ]
  },
  {
   "cell_type": "markdown",
   "id": "8a8ce3c0-3893-4f62-bd5f-d85d0074641d",
   "metadata": {},
   "source": [
    "## Inspecting data first"
   ]
  },
  {
   "cell_type": "code",
   "execution_count": 4,
   "id": "43da7e2d-a391-4df7-9406-bad3819557f9",
   "metadata": {},
   "outputs": [
    {
     "data": {
      "text/html": [
       "<div>\n",
       "<style scoped>\n",
       "    .dataframe tbody tr th:only-of-type {\n",
       "        vertical-align: middle;\n",
       "    }\n",
       "\n",
       "    .dataframe tbody tr th {\n",
       "        vertical-align: top;\n",
       "    }\n",
       "\n",
       "    .dataframe thead th {\n",
       "        text-align: right;\n",
       "    }\n",
       "</style>\n",
       "<table border=\"1\" class=\"dataframe\">\n",
       "  <thead>\n",
       "    <tr style=\"text-align: right;\">\n",
       "      <th></th>\n",
       "      <th>Inspection ID</th>\n",
       "      <th>DBA Name</th>\n",
       "      <th>AKA Name</th>\n",
       "      <th>License #</th>\n",
       "      <th>Facility Type</th>\n",
       "      <th>Risk</th>\n",
       "      <th>Address</th>\n",
       "      <th>City</th>\n",
       "      <th>State</th>\n",
       "      <th>Zip</th>\n",
       "      <th>Inspection Date</th>\n",
       "      <th>Inspection Type</th>\n",
       "      <th>Results</th>\n",
       "      <th>Violations</th>\n",
       "      <th>Latitude</th>\n",
       "      <th>Longitude</th>\n",
       "      <th>Location</th>\n",
       "    </tr>\n",
       "  </thead>\n",
       "  <tbody>\n",
       "    <tr>\n",
       "      <th>0</th>\n",
       "      <td>2571281</td>\n",
       "      <td>AFC SUSHI @ JEWEL OSCO #3349</td>\n",
       "      <td>AFC SUSHI @ JEWEL OSCO #3349</td>\n",
       "      <td>2841387.0</td>\n",
       "      <td>Shared Kitchen User (Long Term)</td>\n",
       "      <td>Risk 1 (High)</td>\n",
       "      <td>16915 N HAAS AVE</td>\n",
       "      <td>TORRANCE</td>\n",
       "      <td>CA</td>\n",
       "      <td>90504.0</td>\n",
       "      <td>02/15/2023</td>\n",
       "      <td>Canvass</td>\n",
       "      <td>Pass</td>\n",
       "      <td>NaN</td>\n",
       "      <td>NaN</td>\n",
       "      <td>NaN</td>\n",
       "      <td>NaN</td>\n",
       "    </tr>\n",
       "    <tr>\n",
       "      <th>1</th>\n",
       "      <td>2569647</td>\n",
       "      <td>Sauganash Elementary School</td>\n",
       "      <td>Sauganash Elementary School</td>\n",
       "      <td>25211.0</td>\n",
       "      <td>School</td>\n",
       "      <td>Risk 1 (High)</td>\n",
       "      <td>6040 N Kilpatrick (4700W) AVE</td>\n",
       "      <td>CHICAGO</td>\n",
       "      <td>IL</td>\n",
       "      <td>60646.0</td>\n",
       "      <td>01/13/2023</td>\n",
       "      <td>Canvass</td>\n",
       "      <td>Pass</td>\n",
       "      <td>NaN</td>\n",
       "      <td>NaN</td>\n",
       "      <td>NaN</td>\n",
       "      <td>NaN</td>\n",
       "    </tr>\n",
       "    <tr>\n",
       "      <th>2</th>\n",
       "      <td>2569445</td>\n",
       "      <td>JERSEY MIKES</td>\n",
       "      <td>JERSEY MIKE'S</td>\n",
       "      <td>2886344.0</td>\n",
       "      <td>Restaurant</td>\n",
       "      <td>Risk 1 (High)</td>\n",
       "      <td>6153 N BROADWAY</td>\n",
       "      <td>CHICAGO</td>\n",
       "      <td>IL</td>\n",
       "      <td>60660.0</td>\n",
       "      <td>01/10/2023</td>\n",
       "      <td>License</td>\n",
       "      <td>Not Ready</td>\n",
       "      <td>NaN</td>\n",
       "      <td>41.993854</td>\n",
       "      <td>-87.660239</td>\n",
       "      <td>(41.99385357489393, -87.66023863563797)</td>\n",
       "    </tr>\n",
       "    <tr>\n",
       "      <th>3</th>\n",
       "      <td>2568003</td>\n",
       "      <td>HOT DOG EXPRESS</td>\n",
       "      <td>HOT DOG EXPRESS (T2  E5)</td>\n",
       "      <td>1909525.0</td>\n",
       "      <td>Restaurant</td>\n",
       "      <td>Risk 2 (Medium)</td>\n",
       "      <td>11601 W TOUHY AVE</td>\n",
       "      <td>CHICAGO</td>\n",
       "      <td>IL</td>\n",
       "      <td>60666.0</td>\n",
       "      <td>12/05/2022</td>\n",
       "      <td>Canvass</td>\n",
       "      <td>Pass</td>\n",
       "      <td>NaN</td>\n",
       "      <td>42.008536</td>\n",
       "      <td>-87.914428</td>\n",
       "      <td>(42.008536400868735, -87.91442843927047)</td>\n",
       "    </tr>\n",
       "    <tr>\n",
       "      <th>4</th>\n",
       "      <td>2567972</td>\n",
       "      <td>SBARRO</td>\n",
       "      <td>SBARRO</td>\n",
       "      <td>2882176.0</td>\n",
       "      <td>Restaurant</td>\n",
       "      <td>Risk 1 (High)</td>\n",
       "      <td>500 W MADISON ST</td>\n",
       "      <td>CHICAGO</td>\n",
       "      <td>IL</td>\n",
       "      <td>60661.0</td>\n",
       "      <td>12/05/2022</td>\n",
       "      <td>License</td>\n",
       "      <td>Not Ready</td>\n",
       "      <td>NaN</td>\n",
       "      <td>41.881994</td>\n",
       "      <td>-87.639759</td>\n",
       "      <td>(41.88199433820508, -87.6397586848809)</td>\n",
       "    </tr>\n",
       "  </tbody>\n",
       "</table>\n",
       "</div>"
      ],
      "text/plain": [
       "   Inspection ID                      DBA Name                      AKA Name  \\\n",
       "0        2571281  AFC SUSHI @ JEWEL OSCO #3349  AFC SUSHI @ JEWEL OSCO #3349   \n",
       "1        2569647   Sauganash Elementary School   Sauganash Elementary School   \n",
       "2        2569445                  JERSEY MIKES                 JERSEY MIKE'S   \n",
       "3        2568003               HOT DOG EXPRESS      HOT DOG EXPRESS (T2  E5)   \n",
       "4        2567972                        SBARRO                        SBARRO   \n",
       "\n",
       "   License #                    Facility Type             Risk  \\\n",
       "0  2841387.0  Shared Kitchen User (Long Term)    Risk 1 (High)   \n",
       "1    25211.0                           School    Risk 1 (High)   \n",
       "2  2886344.0                       Restaurant    Risk 1 (High)   \n",
       "3  1909525.0                       Restaurant  Risk 2 (Medium)   \n",
       "4  2882176.0                       Restaurant    Risk 1 (High)   \n",
       "\n",
       "                          Address      City State      Zip Inspection Date  \\\n",
       "0               16915 N HAAS AVE   TORRANCE    CA  90504.0      02/15/2023   \n",
       "1  6040 N Kilpatrick (4700W) AVE    CHICAGO    IL  60646.0      01/13/2023   \n",
       "2                6153 N BROADWAY    CHICAGO    IL  60660.0      01/10/2023   \n",
       "3              11601 W TOUHY AVE    CHICAGO    IL  60666.0      12/05/2022   \n",
       "4               500 W MADISON ST    CHICAGO    IL  60661.0      12/05/2022   \n",
       "\n",
       "  Inspection Type    Results Violations   Latitude  Longitude  \\\n",
       "0         Canvass       Pass        NaN        NaN        NaN   \n",
       "1         Canvass       Pass        NaN        NaN        NaN   \n",
       "2         License  Not Ready        NaN  41.993854 -87.660239   \n",
       "3         Canvass       Pass        NaN  42.008536 -87.914428   \n",
       "4         License  Not Ready        NaN  41.881994 -87.639759   \n",
       "\n",
       "                                   Location  \n",
       "0                                       NaN  \n",
       "1                                       NaN  \n",
       "2   (41.99385357489393, -87.66023863563797)  \n",
       "3  (42.008536400868735, -87.91442843927047)  \n",
       "4    (41.88199433820508, -87.6397586848809)  "
      ]
     },
     "execution_count": 4,
     "metadata": {},
     "output_type": "execute_result"
    }
   ],
   "source": [
    "data.head()"
   ]
  },
  {
   "cell_type": "code",
   "execution_count": 5,
   "id": "4f855617-30a6-4539-8deb-f7c43d562d1e",
   "metadata": {
    "scrolled": true
   },
   "outputs": [
    {
     "name": "stdout",
     "output_type": "stream",
     "text": [
      "<class 'pandas.core.frame.DataFrame'>\n",
      "RangeIndex: 256789 entries, 0 to 256788\n",
      "Data columns (total 17 columns):\n",
      " #   Column           Non-Null Count   Dtype  \n",
      "---  ------           --------------   -----  \n",
      " 0   Inspection ID    256789 non-null  int64  \n",
      " 1   DBA Name         256789 non-null  object \n",
      " 2   AKA Name         254306 non-null  object \n",
      " 3   License #        256781 non-null  float64\n",
      " 4   Facility Type    251715 non-null  object \n",
      " 5   Risk             256710 non-null  object \n",
      " 6   Address          256789 non-null  object \n",
      " 7   City             256602 non-null  object \n",
      " 8   State            256736 non-null  object \n",
      " 9   Zip              256704 non-null  float64\n",
      " 10  Inspection Date  256789 non-null  object \n",
      " 11  Inspection Type  256788 non-null  object \n",
      " 12  Results          256789 non-null  object \n",
      " 13  Violations       186733 non-null  object \n",
      " 14  Latitude         255911 non-null  float64\n",
      " 15  Longitude        255911 non-null  float64\n",
      " 16  Location         255911 non-null  object \n",
      "dtypes: float64(4), int64(1), object(12)\n",
      "memory usage: 33.3+ MB\n"
     ]
    }
   ],
   "source": [
    "data.info()"
   ]
  },
  {
   "cell_type": "markdown",
   "id": "84b26d8d-5eaf-4a65-8068-41248af8907d",
   "metadata": {},
   "source": [
    "## Finding useful features, analyzing data"
   ]
  },
  {
   "cell_type": "code",
   "execution_count": 6,
   "id": "8fd727b6-422a-49ef-8105-ff3c7ecdaa62",
   "metadata": {},
   "outputs": [],
   "source": [
    "city = data['City'].value_counts()"
   ]
  },
  {
   "cell_type": "code",
   "execution_count": 7,
   "id": "8e1dc97e-071c-46f6-804f-819948de7df4",
   "metadata": {},
   "outputs": [],
   "source": [
    "city = np.log1p(city)"
   ]
  },
  {
   "cell_type": "code",
   "execution_count": 8,
   "id": "d972bfc1-3ff8-401f-aa62-57558879ae29",
   "metadata": {
    "scrolled": true
   },
   "outputs": [
    {
     "data": {
      "text/plain": [
       "<AxesSubplot: title={'center': 'Number of inspections for City'}>"
      ]
     },
     "execution_count": 8,
     "metadata": {},
     "output_type": "execute_result"
    },
    {
     "data": {
      "image/png": "[encoded data removed]",
      "text/plain": [
       "<Figure size 1200x1000 with 1 Axes>"
      ]
     },
     "metadata": {},
     "output_type": "display_data"
    }
   ],
   "source": [
    "plt.figure(figsize=(12, 10))\n",
    "city.plot(kind='bar', title = 'Number of inspections for City')"
   ]
  },
  {
   "cell_type": "markdown",
   "id": "034ae405-8e05-430b-a04c-c3c665792687",
   "metadata": {},
   "source": [
    "As we can see, there are a lot of misstypo's. We will get rid of them later. #TODO Chicago misstypo fix"
   ]
  },
  {
   "cell_type": "code",
   "execution_count": 9,
   "id": "a2548928-d2d1-432a-9a8c-cb733f463e41",
   "metadata": {},
   "outputs": [],
   "source": [
    "Risk_info = data['Risk'].value_counts()"
   ]
  },
  {
   "cell_type": "code",
   "execution_count": 10,
   "id": "fc21f248-b77a-4d26-9844-1521a669c5e2",
   "metadata": {},
   "outputs": [],
   "source": [
    "Risk_info = np.sqrt(Risk_info)"
   ]
  },
  {
   "cell_type": "code",
   "execution_count": 11,
   "id": "1de6deb9-21a2-48c8-9b1a-fa21b9cfade7",
   "metadata": {
    "scrolled": true
   },
   "outputs": [
    {
     "data": {
      "text/plain": [
       "<AxesSubplot: title={'center': 'Risk Count'}>"
      ]
     },
     "execution_count": 11,
     "metadata": {},
     "output_type": "execute_result"
    },
    {
     "data": {
      "image/png": "[encoded data removed]",
      "text/plain": [
       "<Figure size 1000x500 with 1 Axes>"
      ]
     },
     "metadata": {},
     "output_type": "display_data"
    }
   ],
   "source": [
    "plt.figure(figsize=(10,5))\n",
    "Risk_info.plot(kind='bar', title = 'Risk Count')"
   ]
  },
  {
   "cell_type": "code",
   "execution_count": 12,
   "id": "53f66095-bf3e-41de-8aa3-99aa2062bd6e",
   "metadata": {},
   "outputs": [],
   "source": [
    "data['Inspection Date'] = pd.to_datetime(data['Inspection Date'])\n",
    "inspection_counts = data.resample('M', on='Inspection Date').size()"
   ]
  },
  {
   "cell_type": "code",
   "execution_count": 13,
   "id": "e1b0fcdf-96b7-43aa-a1b9-5c3156475036",
   "metadata": {
    "scrolled": true
   },
   "outputs": [
    {
     "data": {
      "image/png": "[encoded data removed]",
      "text/plain": [
       "<Figure size 1200x500 with 1 Axes>"
      ]
     },
     "metadata": {},
     "output_type": "display_data"
    }
   ],
   "source": [
    "plt.figure(figsize=(12, 5))\n",
    "inspection_counts.plot()\n",
    "plt.title('Количество инспекций по датам')\n",
    "plt.xlabel('Дата инспекции')\n",
    "plt.ylabel('Количество инспекций')\n",
    "plt.show()"
   ]
  },
  {
   "cell_type": "markdown",
   "id": "78f30a65-eb3a-4317-9408-df4524fd9098",
   "metadata": {},
   "source": [
    "As we can see, number of inspection on 2019-2021 is quite low. I can assume, that the main reason is COVID-2019."
   ]
  },
  {
   "cell_type": "code",
   "execution_count": 14,
   "id": "040e909f-2426-4a6e-878a-7097cbce28a5",
   "metadata": {},
   "outputs": [],
   "source": [
    "Result_info = data['Results'].value_counts()"
   ]
  },
  {
   "cell_type": "code",
   "execution_count": 15,
   "id": "d2bb7aec-dcda-482d-9e1b-2df9b805826a",
   "metadata": {},
   "outputs": [
    {
     "data": {
      "text/plain": [
       "Pass                    132299\n",
       "Fail                     49968\n",
       "Pass w/ Conditions       39445\n",
       "Out of Business          21815\n",
       "No Entry                 10010\n",
       "Not Ready                 3170\n",
       "Business Not Located        82\n",
       "Name: Results, dtype: int64"
      ]
     },
     "execution_count": 15,
     "metadata": {},
     "output_type": "execute_result"
    }
   ],
   "source": [
    "data['Results'].value_counts()"
   ]
  },
  {
   "cell_type": "code",
   "execution_count": 16,
   "id": "d4b267f3-51fe-4d2d-b6ce-e7d1ff5d70fc",
   "metadata": {
    "scrolled": true
   },
   "outputs": [
    {
     "data": {
      "text/plain": [
       "<AxesSubplot: title={'center': 'Results of inspections'}>"
      ]
     },
     "execution_count": 16,
     "metadata": {},
     "output_type": "execute_result"
    },
    {
     "data": {
      "image/png": "[encoded data removed]",
      "text/plain": [
       "<Figure size 1000x500 with 1 Axes>"
      ]
     },
     "metadata": {},
     "output_type": "display_data"
    }
   ],
   "source": [
    "plt.figure(figsize=(10,5))\n",
    "Result_info.plot(kind='bar', title = 'Results of inspections')"
   ]
  },
  {
   "cell_type": "code",
   "execution_count": 17,
   "id": "9866860b-c2c2-4a07-9cfb-9547b2882b4f",
   "metadata": {},
   "outputs": [],
   "source": [
    "Zip_info = data['Zip'].value_counts()"
   ]
  },
  {
   "cell_type": "code",
   "execution_count": 18,
   "id": "5326f576-3d7f-4b54-84e3-fab4d3e97570",
   "metadata": {},
   "outputs": [],
   "source": [
    "Zip_info = Zip_info[Zip_info > 20]"
   ]
  },
  {
   "cell_type": "code",
   "execution_count": 19,
   "id": "1167c2bf-8a37-4331-a1a7-c94eccfc0e6b",
   "metadata": {
    "scrolled": true
   },
   "outputs": [
    {
     "data": {
      "text/plain": [
       "<AxesSubplot: title={'center': 'ZipCode Inspection Count'}>"
      ]
     },
     "execution_count": 19,
     "metadata": {},
     "output_type": "execute_result"
    },
    {
     "data": {
      "image/png": "[encoded data removed]",
      "text/plain": [
       "<Figure size 1000x500 with 1 Axes>"
      ]
     },
     "metadata": {},
     "output_type": "display_data"
    }
   ],
   "source": [
    "plt.figure(figsize=(10,5))\n",
    "Zip_info.plot(kind='bar', title = 'ZipCode Inspection Count')"
   ]
  },
  {
   "cell_type": "markdown",
   "id": "20b89490-835b-4d4d-af50-16634e6f3095",
   "metadata": {},
   "source": [
    "## Heatmap"
   ]
  },
  {
   "cell_type": "code",
   "execution_count": 20,
   "id": "a295d5b0-c6ef-41a0-b957-c3fe66d30a79",
   "metadata": {},
   "outputs": [
    {
     "name": "stderr",
     "output_type": "stream",
     "text": [
      "C:\\Users\\ncpaa\\AppData\\Local\\Temp\\ipykernel_11160\\1351907255.py:1: FutureWarning: The default value of numeric_only in DataFrame.corr is deprecated. In a future version, it will default to False. Select only valid columns or specify the value of numeric_only to silence this warning.\n",
      "  corr = data.corr()\n"
     ]
    }
   ],
   "source": [
    "corr = data.corr()"
   ]
  },
  {
   "cell_type": "code",
   "execution_count": 21,
   "id": "381fed86-08cb-4fe0-bf94-49ebf08b3d25",
   "metadata": {},
   "outputs": [
    {
     "data": {
      "image/png": "[encoded data removed]",
      "text/plain": [
       "<Figure size 1000x600 with 2 Axes>"
      ]
     },
     "metadata": {},
     "output_type": "display_data"
    }
   ],
   "source": [
    "plt.figure(figsize=(10, 6))\n",
    "sns.heatmap(corr, annot=True, cmap='coolwarm')\n",
    "plt.title('Correlation heatmap')\n",
    "plt.show()"
   ]
  },
  {
   "cell_type": "markdown",
   "id": "a66a44e3-3850-47a6-9f5b-0e36748a5323",
   "metadata": {},
   "source": [
    "## Data preprocessing"
   ]
  },
  {
   "cell_type": "markdown",
   "id": "8d1fda0c-ccb5-41bf-8b09-15e816903b11",
   "metadata": {
    "jp-MarkdownHeadingCollapsed": true
   },
   "source": [
    "We will now proceed with preparing the dataset for the analysis. Below we take the following preprocessing steps:\n",
    "1. Making Licence # column a unique identifier in the dataset.\n",
    "2. Fixing the zip codes by completing the missing values based on the values of Longitude and Latitude.\n",
    "3. Fixing the City column by completing the missing values based on the zip code.\n",
    "4. Standardizing the Inspection Type values by cleaning various namings and reducing the number of categories.ories."
   ]
  },
  {
   "cell_type": "code",
   "execution_count": 22,
   "id": "b30568b8-1370-4fc7-a3d3-0e7ded73a260",
   "metadata": {},
   "outputs": [
    {
     "name": "stdout",
     "output_type": "stream",
     "text": [
      "Using DBA Name we can see there are 31536 distinct names\n"
     ]
    }
   ],
   "source": [
    "print(f\"Using DBA Name we can see there are {data['DBA Name'].nunique()} distinct names\")"
   ]
  },
  {
   "cell_type": "code",
   "execution_count": 23,
   "id": "005e4f73-8b80-4833-96dd-620c6a90b70f",
   "metadata": {},
   "outputs": [
    {
     "name": "stdout",
     "output_type": "stream",
     "text": [
      "Using restaurant Licenses we can see there are 43524 distinct names\n"
     ]
    }
   ],
   "source": [
    "print(f\"Using restaurant Licenses we can see there are {data['License #'].nunique()} distinct names\")"
   ]
  },
  {
   "cell_type": "code",
   "execution_count": 24,
   "id": "114d199d-1940-4362-b543-8fde6917e9e1",
   "metadata": {},
   "outputs": [
    {
     "name": "stdout",
     "output_type": "stream",
     "text": [
      "There are 8 names that have NaN licence number\n"
     ]
    }
   ],
   "source": [
    "print(f\"There are {data['License #'].isna().sum()} names that have NaN licence number\")"
   ]
  },
  {
   "cell_type": "code",
   "execution_count": 25,
   "id": "e427ede1-9ea0-4505-8cff-6dbd3ac8d0f8",
   "metadata": {},
   "outputs": [
    {
     "name": "stdout",
     "output_type": "stream",
     "text": [
      "There are 670 names that have zero licence number\n"
     ]
    }
   ],
   "source": [
    "print(f\"There are {len(data[data['License #'] == 0.0])} names that have zero licence number\")"
   ]
  },
  {
   "cell_type": "markdown",
   "id": "f91798d7-ad06-4190-8c90-337060a6a04a",
   "metadata": {},
   "source": [
    "To be able to identify restaurants with license number equal to 0, we will assume that no two of such restaurants share the same location and the same name. Using this assumption, we can create artificial license numbers for restaurants with missing license numbers:"
   ]
  },
  {
   "cell_type": "code",
   "execution_count": 26,
   "id": "1c68ccf8-b6d0-41c1-9389-57cd0dbdeb11",
   "metadata": {},
   "outputs": [],
   "source": [
    "# Get the maximum license number that exists in the database and use it as starting point for the newly generated license numbers\n",
    "start_id = int(data[\"License #\"].max() + 1)\n",
    "missing_licenses = data[(data[\"License #\"] == 0)][[\"DBA Name\",\"Location\"]].copy().drop_duplicates()\n",
    "missing_licenses[\"new License\"] = [i for i in range(start_id, start_id+len(missing_licenses.drop_duplicates()))]"
   ]
  },
  {
   "cell_type": "code",
   "execution_count": 27,
   "id": "ac2f210e-3f0a-4e48-819d-c0ce840a1e62",
   "metadata": {},
   "outputs": [],
   "source": [
    "data = data.merge(missing_licenses, on=[\"DBA Name\",\"Location\"], how='left')"
   ]
  },
  {
   "cell_type": "code",
   "execution_count": 28,
   "id": "cd3db6b5-f609-49e6-8370-bf69592b65c4",
   "metadata": {},
   "outputs": [],
   "source": [
    "# Populate missing licence numbers with newly generated license numbers\n",
    "data[\"License #\"] = data[\"License #\"].apply(lambda x: np.nan if x == 0 else x)\n",
    "data[\"License #\"] = data[\"License #\"].fillna(value = data[\"new License\"])\n",
    "data.drop(columns=[\"new License\"], inplace=True)"
   ]
  },
  {
   "cell_type": "code",
   "execution_count": 29,
   "id": "852de504-cb91-4ad3-bf5f-edc52c7231d3",
   "metadata": {},
   "outputs": [],
   "source": [
    "data.dropna(subset = 'License #', axis = 0, inplace = True)"
   ]
  },
  {
   "cell_type": "code",
   "execution_count": 30,
   "id": "5ee3601b-3c03-452f-8529-75e3e448406e",
   "metadata": {},
   "outputs": [],
   "source": [
    "data[\"License #\"] = data[\"License #\"].apply(lambda x : int(x))"
   ]
  },
  {
   "cell_type": "code",
   "execution_count": 31,
   "id": "b6f3a3c9-0ab9-4d7e-8574-a89dd63ac0f6",
   "metadata": {},
   "outputs": [
    {
     "name": "stdout",
     "output_type": "stream",
     "text": [
      "There are 0 missing license numbers in our dataset\n"
     ]
    }
   ],
   "source": [
    "print(\"There are {0} missing license numbers in our dataset\".format(data[data[\"License #\"] == 0].size))"
   ]
  },
  {
   "cell_type": "code",
   "execution_count": 32,
   "id": "7515fe57-73dd-40cc-8e73-9d9e0c489a28",
   "metadata": {},
   "outputs": [],
   "source": [
    "data = data[~((data['Longitude'].isna()) | (data['Latitude'].isna()))]"
   ]
  },
  {
   "cell_type": "markdown",
   "id": "4b02faab-6ddc-473b-865b-aa819534527f",
   "metadata": {},
   "source": [
    "The big part of our analysis will be based on neighborhoods, therefore we will hugely rely on the Zip column."
   ]
  },
  {
   "cell_type": "code",
   "execution_count": 33,
   "id": "b63e87a0-bed2-4865-b5af-5e3646099d7b",
   "metadata": {},
   "outputs": [
    {
     "name": "stdout",
     "output_type": "stream",
     "text": [
      "There are 81 missing values for Zip column\n",
      "There are 183 missing values for City column\n"
     ]
    }
   ],
   "source": [
    "print('There are {0} missing values for Zip column'.format(data[data['Zip'].isna()].shape[0]))\n",
    "print('There are {0} missing values for City column'.format(data[data['City'].isna()].shape[0]))"
   ]
  },
  {
   "cell_type": "markdown",
   "id": "ea58c73a-ef1b-4a67-8883-f907b9e56579",
   "metadata": {},
   "source": [
    "We want to populate the missing Zip values based on the Latitude and Longitude. In order to do that, we must have those two features for all the restaurants in the dataset. That is why we decided to drop all entries where one of those features is missing."
   ]
  },
  {
   "cell_type": "code",
   "execution_count": 34,
   "id": "0657313e-6d00-49a0-ad97-7e5ad771b3df",
   "metadata": {},
   "outputs": [],
   "source": [
    "zip_na = data[data['Zip'].isna()]"
   ]
  },
  {
   "cell_type": "markdown",
   "id": "131d0d27-427d-4ea6-bc23-acad7572f82f",
   "metadata": {},
   "source": [
    "To populate Zip values based on coordinates, we use [shapely](https://pypi.org/project/Shapely/) - Python package for manipulation and analysis of planar geometric objects."
   ]
  },
  {
   "cell_type": "code",
   "execution_count": 35,
   "id": "f12cd7ee-9166-4005-981b-ff082adc524a",
   "metadata": {},
   "outputs": [],
   "source": [
    "# Function that creates points from Latitude and Longitude\n",
    "def create_points(df):\n",
    "    coords = list(zip(df['Longitude'], df['Latitude']))\n",
    "    res = []\n",
    "    for coord in coords:\n",
    "        res.append(shapely.geometry.Point(coord))\n",
    "    return res"
   ]
  },
  {
   "cell_type": "code",
   "execution_count": 36,
   "id": "8311f910-b34e-416e-ac61-e697901cf1ec",
   "metadata": {},
   "outputs": [],
   "source": [
    "# Create list of points for which we want to get Zip code\n",
    "points = create_points(zip_na)"
   ]
  },
  {
   "cell_type": "code",
   "execution_count": 37,
   "id": "7c40f8cd-dc4c-426d-ba76-374adecfd6b5",
   "metadata": {},
   "outputs": [],
   "source": [
    "# Method which checks whether the points are in area described in geojson file and returns data with zip value for found points\n",
    "def populate_missing_zip(points, geojson_filename):\n",
    "    # load GeoJSON file containing sectors\n",
    "    state_geo_path = r'{0}'.format(geojson_filename)\n",
    "    geo_json_data = json.load(open(state_geo_path))\n",
    "\n",
    "    zip_found = []\n",
    "    # check each polygon to see if it contains the point\n",
    "    for feature in geo_json_data['features']:\n",
    "        polygon = shapely.geometry.shape(feature['geometry'])\n",
    "        for point in points: \n",
    "            if polygon.contains(point):\n",
    "                point_complete = {'Longitude':point.x, 'Latitude':point.y, 'Zip':feature.get('properties', {}).get('zip')}\n",
    "                zip_found.append(point_complete)\n",
    "    return zip_found"
   ]
  },
  {
   "cell_type": "code",
   "execution_count": 38,
   "id": "202a6a0d-f841-4ef1-8d4c-640bb3a9fb7b",
   "metadata": {},
   "outputs": [
    {
     "name": "stdout",
     "output_type": "stream",
     "text": [
      "Total 81 point found matching Chicago sectors.\n"
     ]
    }
   ],
   "source": [
    "# Find missing Zip values\n",
    "zip_found = populate_missing_zip(points, 'chicago-zip.geojson')\n",
    "print('Total {0} point found matching Chicago sectors.'.format(len(zip_found)))"
   ]
  },
  {
   "cell_type": "code",
   "execution_count": 39,
   "id": "40ccf36c-e369-4a7c-9bf3-04b6a66a656b",
   "metadata": {},
   "outputs": [
    {
     "data": {
      "text/html": [
       "<div>\n",
       "<style scoped>\n",
       "    .dataframe tbody tr th:only-of-type {\n",
       "        vertical-align: middle;\n",
       "    }\n",
       "\n",
       "    .dataframe tbody tr th {\n",
       "        vertical-align: top;\n",
       "    }\n",
       "\n",
       "    .dataframe thead th {\n",
       "        text-align: right;\n",
       "    }\n",
       "</style>\n",
       "<table border=\"1\" class=\"dataframe\">\n",
       "  <thead>\n",
       "    <tr style=\"text-align: right;\">\n",
       "      <th></th>\n",
       "      <th>Longitude</th>\n",
       "      <th>Latitude</th>\n",
       "      <th>Zip</th>\n",
       "    </tr>\n",
       "  </thead>\n",
       "  <tbody>\n",
       "    <tr>\n",
       "      <th>0</th>\n",
       "      <td>-87.774526</td>\n",
       "      <td>41.908949</td>\n",
       "      <td>60651</td>\n",
       "    </tr>\n",
       "    <tr>\n",
       "      <th>1</th>\n",
       "      <td>-87.716676</td>\n",
       "      <td>41.898995</td>\n",
       "      <td>60651</td>\n",
       "    </tr>\n",
       "    <tr>\n",
       "      <th>2</th>\n",
       "      <td>-87.721095</td>\n",
       "      <td>41.902606</td>\n",
       "      <td>60651</td>\n",
       "    </tr>\n",
       "    <tr>\n",
       "      <th>3</th>\n",
       "      <td>-87.721095</td>\n",
       "      <td>41.902606</td>\n",
       "      <td>60651</td>\n",
       "    </tr>\n",
       "    <tr>\n",
       "      <th>4</th>\n",
       "      <td>-87.624044</td>\n",
       "      <td>41.892716</td>\n",
       "      <td>60611</td>\n",
       "    </tr>\n",
       "  </tbody>\n",
       "</table>\n",
       "</div>"
      ],
      "text/plain": [
       "   Longitude   Latitude    Zip\n",
       "0 -87.774526  41.908949  60651\n",
       "1 -87.716676  41.898995  60651\n",
       "2 -87.721095  41.902606  60651\n",
       "3 -87.721095  41.902606  60651\n",
       "4 -87.624044  41.892716  60611"
      ]
     },
     "execution_count": 39,
     "metadata": {},
     "output_type": "execute_result"
    }
   ],
   "source": [
    "zip_found = pd.DataFrame(zip_found)\n",
    "zip_found.head()"
   ]
  },
  {
   "cell_type": "markdown",
   "id": "aa107dfb-276f-4b19-ae2c-24ddc786ec16",
   "metadata": {},
   "source": [
    "Now, we have to merge those results with the original dataset."
   ]
  },
  {
   "cell_type": "code",
   "execution_count": 40,
   "id": "23785577-1305-447b-856d-3006df7f3933",
   "metadata": {},
   "outputs": [],
   "source": [
    "# Before merging, drop duplicate points\n",
    "zip_found.drop_duplicates(inplace=True)"
   ]
  },
  {
   "cell_type": "code",
   "execution_count": 41,
   "id": "3f2061eb-117d-4c26-add5-f224b2900413",
   "metadata": {},
   "outputs": [],
   "source": [
    "data = data.merge(zip_found,on=['Latitude','Longitude'], how='left',suffixes=('', '_notnull'))\n",
    "data.Zip.fillna(value=data.Zip_notnull, inplace=True)\n",
    "data.drop(columns=[\"Zip_notnull\"], inplace=True)"
   ]
  },
  {
   "cell_type": "code",
   "execution_count": 42,
   "id": "0a972328-da82-4270-9407-b7ed4cf831f0",
   "metadata": {},
   "outputs": [
    {
     "name": "stdout",
     "output_type": "stream",
     "text": [
      "There are 0 missing Zip left in the restaurant dataset.\n"
     ]
    }
   ],
   "source": [
    "print('There are {0} missing Zip left in the restaurant dataset.'.format(data[data.Zip.isnull()].shape[0]))"
   ]
  },
  {
   "cell_type": "code",
   "execution_count": 114,
   "id": "465d5634-4b9f-4436-9e60-1b2438ebb7e3",
   "metadata": {},
   "outputs": [],
   "source": [
    "# Change type of Zip feature from float to string\n",
    "data['Zip']=data['Zip'].apply(lambda x: str(int(x)))"
   ]
  },
  {
   "cell_type": "markdown",
   "id": "e959db08-3075-4a62-a7e8-5102d53a19a5",
   "metadata": {},
   "source": [
    "### Completing City column based on zip codes"
   ]
  },
  {
   "cell_type": "markdown",
   "id": "fa69da16-d535-46fe-8df5-1349a88a3ffb",
   "metadata": {},
   "source": [
    "We will also fix the City column. Now we can use the Zip column to fill in the missing information about the city."
   ]
  },
  {
   "cell_type": "code",
   "execution_count": 44,
   "id": "b8012e60-d771-41fb-8e84-2088b574a4ae",
   "metadata": {},
   "outputs": [],
   "source": [
    "# Function that returns all Chicago Zips frem geojson file\n",
    "def create_chicago_zip_list():\n",
    "    state_geo_path = \"chicago-zip.geojson\"\n",
    "    geo_json_data = json.load(open(state_geo_path))\n",
    "\n",
    "    zips = []\n",
    "   \n",
    "    for feature in geo_json_data['features']:\n",
    "        zips.append(str(feature.get('properties', {}).get('zip')))\n",
    "    return set(zips)"
   ]
  },
  {
   "cell_type": "code",
   "execution_count": 45,
   "id": "12da4762-37aa-4ad5-9e72-dd49c438c34c",
   "metadata": {},
   "outputs": [],
   "source": [
    "# Get list of all Zip codes in Chicago\n",
    "chicago_zip = create_chicago_zip_list()"
   ]
  },
  {
   "cell_type": "code",
   "execution_count": 46,
   "id": "d303f452-cac3-4118-b60d-f3d352ae32ec",
   "metadata": {},
   "outputs": [
    {
     "name": "stdout",
     "output_type": "stream",
     "text": [
      "There are 0 Zip values which are not in Chicago.\n"
     ]
    }
   ],
   "source": [
    "# Check if there is any restaurant not in Chicago\n",
    "not_in_chicago = len(data[data.City.isna() & (~data.Zip.isin(chicago_zip))])\n",
    "print('There are {0} Zip values which are not in Chicago.'.format(not_in_chicago))"
   ]
  },
  {
   "cell_type": "code",
   "execution_count": 47,
   "id": "9b304c8a-36f0-4698-a71d-fd827d43f462",
   "metadata": {},
   "outputs": [],
   "source": [
    "# Replace all City missing values with Chicago\n",
    "data.City.fillna(value='Chicago', inplace=True)"
   ]
  },
  {
   "cell_type": "code",
   "execution_count": 48,
   "id": "fdc3ac4d-164f-4dab-bac0-54c813bbcde2",
   "metadata": {},
   "outputs": [
    {
     "name": "stdout",
     "output_type": "stream",
     "text": [
      "There are 0 missing City values left in the restaurant dataset.\n"
     ]
    }
   ],
   "source": [
    "print('There are {0} missing City values left in the restaurant dataset.'.format(data[data.City.isnull()].shape[0]))"
   ]
  },
  {
   "cell_type": "code",
   "execution_count": 49,
   "id": "e2d26a56-3202-4b94-8fe4-bb98c39c609c",
   "metadata": {
    "scrolled": true
   },
   "outputs": [
    {
     "data": {
      "text/plain": [
       "array(['CHICAGO', 'Chicago', 'CHCHICAGO', 'chicago', 'CCHICAGO',\n",
       "       'CHicago', 'CHICAGO.', 'CHICAGOCHICAGO', 'CHICAGOO', 'CHICAGOC',\n",
       "       '312CHICAGO', 'chicagoBEDFORD PARK', 'CHCICAGO', 'CHARLES A HAYES',\n",
       "       'LOMBARD', 'CHICAGOI', 'WESTMONT', 'SUMMIT', 'INACTIVE', 'alsip',\n",
       "       'BLUE ISLAND'], dtype=object)"
      ]
     },
     "execution_count": 49,
     "metadata": {},
     "output_type": "execute_result"
    }
   ],
   "source": [
    "data.City.unique()"
   ]
  },
  {
   "cell_type": "code",
   "execution_count": 50,
   "id": "451ccb02-6de0-4acb-9983-1c05e22f3043",
   "metadata": {
    "scrolled": true
   },
   "outputs": [
    {
     "data": {
      "text/plain": [
       "array(['Chicago'], dtype=object)"
      ]
     },
     "execution_count": 50,
     "metadata": {},
     "output_type": "execute_result"
    }
   ],
   "source": [
    "# Change all values for City column to be Chicago\n",
    "data.City = 'Chicago'\n",
    "data.City.unique()"
   ]
  },
  {
   "cell_type": "markdown",
   "id": "de029a70-b1e3-4433-a822-9a69c86b9710",
   "metadata": {},
   "source": [
    "### Standardizing/cleaning Inspection Type values"
   ]
  },
  {
   "cell_type": "code",
   "execution_count": 51,
   "id": "b86774c7-adb0-43cb-bd86-625b4a5d7f05",
   "metadata": {},
   "outputs": [
    {
     "data": {
      "text/plain": [
       "array(['License', 'Canvass', 'Non-Inspection', 'Canvass Re-Inspection',\n",
       "       'Complaint', 'License Re-Inspection', 'Short Form Complaint',\n",
       "       'Complaint Re-Inspection', 'Recent Inspection',\n",
       "       'Suspected Food Poisoning',\n",
       "       'Suspected Food Poisoning Re-inspection', 'Not Ready',\n",
       "       'Consultation', 'Task Force Liquor 1475', 'Complaint-Fire',\n",
       "       'Short Form Fire-Complaint', 'OUT OF BUSINESS', 'NO ENTRY',\n",
       "       'License-Task Force', 'Tag Removal', 'Out of Business', 'No Entry',\n",
       "       'out ofbusiness', 'Special Events (Festivals)', 'COVID COMPLAINT',\n",
       "       'Recent inspection', 'fire complaint', 'FIRE', nan,\n",
       "       'Complaint-Fire Re-inspection', 'KITCHEN CLOSED FOR RENOVATION',\n",
       "       'CORRECTIVE ACTION', 'O.B.', 'LICENSE CANCELED BY OWNER',\n",
       "       'OWNER SUSPENDED OPERATION/LICENSE', 'LICENSE CONSULTATION',\n",
       "       'Illegal Operation', 'License consultation', 'Package Liquor 1474',\n",
       "       'No entry', 'CANVASS SPECIAL EVENTS',\n",
       "       'TWO PEOPLE ATE AND GOT SICK.', 'CANVASS SCHOOL/SPECIAL EVENT',\n",
       "       'Pre-License Consultation', 'no entry', 'FIRE/COMPLAIN',\n",
       "       '1315 license reinspection', 'Sample Collection',\n",
       "       'TASK FORCE LIQUOR 1470', 'license task 1474', 'ADDENDUM',\n",
       "       'Task Force for liquor 1474',\n",
       "       'LICENSE TASK FORCE / NOT -FOR-PROFIT CLU', 'SFP',\n",
       "       'Task force liquor inspection 1474', 'Task Force Liquor Catering',\n",
       "       'SFP/COMPLAINT', 'LICENSE REQUEST', 'CANVAS', 'SFP/Complaint',\n",
       "       'expansion', 'TASK FORCE NIGHT', 'TAVERN 1470',\n",
       "       'SFP RECENTLY INSPECTED', 'LICENSE RENEWAL INSPECTION FOR DAYCARE',\n",
       "       'SMOKING COMPLAINT', 'CANVASS', 'LICENSE/NOT READY',\n",
       "       'LICENSE RENEWAL FOR DAYCARE',\n",
       "       'LICENSE TASK FORCE / NOT -FOR-PROFIT CLUB', 'TASKFORCE',\n",
       "       'CANVASS RE INSPECTION OF CLOSE UP', 'KIDS CAFE',\n",
       "       'LICENSE DAYCARE 1586', 'NO ENTRY-SHORT COMPLAINT)', 'CITF',\n",
       "       'task force(1470) liquor tavern', 'error save', 'TASTE OF CHICAGO',\n",
       "       'LIQUOR CATERING', 'Summer Feeding', 'citation re-issued',\n",
       "       'DAY CARE LICENSE RENEWAL', 'LICENSE', 'Special Task Force',\n",
       "       'sfp/complaint', 'HACCP QUESTIONAIRE', 'CHANGED COURT DATE',\n",
       "       'CANVASS/SPECIAL EVENT', 'Duplicated', 'license',\n",
       "       'RECALL INSPECTION', 'LICENSE WRONG ADDRESS',\n",
       "       'finish complaint inspection from 5-18-10',\n",
       "       'TASK FORCE PACKAGE LIQUOR', 'CLOSE-UP/COMPLAINT REINSPECTION',\n",
       "       'TASK FORCE LIQUOR 1474', 'CANVASS FOR RIB FEST',\n",
       "       'REINSPECTION OF 48 HOUR NOTICE', 'TASK FORCE LIQUOR (1481)',\n",
       "       'LIQOUR TASK FORCE NOT READY', 'SPECIAL TASK FORCE', 'task force',\n",
       "       'REINSPECTION', 'POSSIBLE FBI', 'TASK FORCE NOT READY',\n",
       "       'Business Not Located', 'RE-INSPECTION OF CLOSE-UP', \"Kids Cafe'\",\n",
       "       'TASK FORCE PACKAGE GOODS 1474'], dtype=object)"
      ]
     },
     "execution_count": 51,
     "metadata": {},
     "output_type": "execute_result"
    }
   ],
   "source": [
    "data['Inspection Type'].unique()"
   ]
  },
  {
   "cell_type": "markdown",
   "id": "3ecc99c6-89d2-4bd4-982c-b15ac2d69e72",
   "metadata": {},
   "source": [
    "Looking at `Inspection Type` values we can see that they need some cleaning. According to the [document describing the dataset](https://data.cityofchicago.org/api/assets/BAD5301B-681A-4202-9D25-51B2CAE672FF) we should have following inspection types:\n",
    " - **canvass**: regular inspections with frequency depending on establishment risk,\n",
    " - **complaint**: in a response to filed complaint,\n",
    " - **license**: when obtaining a license, as a requirement of launching the establishment (should be once for most or more if they failed, this might be a separate study case),\n",
    " - **suspect food poisoning**: specific type of *complaint* when someone reports getting ill after eating from there\n",
    " - **task-force**: for bars and taverns.\n",
    "\n",
    "Also, as the linked document states, re-inspections can be done for most of the types and are indicated in the name of inspection type."
   ]
  },
  {
   "cell_type": "markdown",
   "id": "acfdc61e-df70-41dc-ad00-98cc5812330a",
   "metadata": {},
   "source": [
    "First, we replace NaN values in Inspection Type with \"Unknown\":"
   ]
  },
  {
   "cell_type": "code",
   "execution_count": 52,
   "id": "d4e5267e-a121-4b7b-a4d7-dcb163634766",
   "metadata": {},
   "outputs": [],
   "source": [
    "data.fillna(value={'Inspection Type': 'Unknown'}, inplace=True)"
   ]
  },
  {
   "cell_type": "markdown",
   "id": "7626e93a-d6fa-4ff2-b6f6-7c4937f736ae",
   "metadata": {},
   "source": [
    "Now, since we may want to use the indication whether a particular inspection was a re-inspection or not, we add a separate column that will indicate that:"
   ]
  },
  {
   "cell_type": "code",
   "execution_count": 53,
   "id": "23174fc2-fa42-4cb8-bb43-7a7559ea3d64",
   "metadata": {},
   "outputs": [],
   "source": [
    "reinspection_pattern = 're-inspec|reinspec|re inspec'\n",
    "data['Re-inspection'] = data['Inspection Type'].str.lower().str.contains(reinspection_pattern, regex=True)"
   ]
  },
  {
   "cell_type": "code",
   "execution_count": 54,
   "id": "d11f6361-009c-45ff-95a7-250d3c5476b8",
   "metadata": {},
   "outputs": [],
   "source": [
    "inspection_types = data['Inspection Type'].unique().astype(str)\n",
    "inspection_types_lower = np.char.lower(inspection_types)"
   ]
  },
  {
   "cell_type": "code",
   "execution_count": 55,
   "id": "6068b1e8-afa5-41cd-b6bd-c582c98c248a",
   "metadata": {},
   "outputs": [],
   "source": [
    "# Replaces values in Inspection Type for records with keywords found in them with the specified replacement value\n",
    "def standardize_by_finding_keyword(keywords, replacement):\n",
    "  to_replace = np.array([])\n",
    "  for keyword in keywords:\n",
    "    to_replace = np.append(to_replace, inspection_types[np.char.find(inspection_types_lower, keyword) != -1])\n",
    "  data['Inspection Type'] = data['Inspection Type'].replace(to_replace, value=replacement)"
   ]
  },
  {
   "cell_type": "code",
   "execution_count": 56,
   "id": "feff67ec-f92a-40eb-af86-e253429cf940",
   "metadata": {},
   "outputs": [],
   "source": [
    "standardize_by_finding_keyword(['canvas'], 'Canvass')\n",
    "standardize_by_finding_keyword(['complain'], 'Complaint')\n",
    "standardize_by_finding_keyword(['license'], 'License')\n",
    "standardize_by_finding_keyword(['task', 'liquor'], 'Task Force')"
   ]
  },
  {
   "cell_type": "code",
   "execution_count": 57,
   "id": "0e72c8ed-0502-4d02-be61-407070c6e32d",
   "metadata": {},
   "outputs": [],
   "source": [
    "# Suspected Food Poisoning replacements\n",
    "sfp_values = data['Inspection Type'].str.lower().str.contains('food|sfp', regex=True)\n",
    "data.loc[sfp_values, 'Inspection Type'] = 'Suspected Food Poisoning'\n",
    "standardize_by_finding_keyword(['sick'], 'Suspected Food Poisoning')"
   ]
  },
  {
   "cell_type": "code",
   "execution_count": 58,
   "id": "60704939-2b8e-403a-8f07-cb7bf41361c2",
   "metadata": {
    "scrolled": true
   },
   "outputs": [
    {
     "data": {
      "text/plain": [
       "Inspection Type\n",
       "ADDENDUM                               1\n",
       "Business Not Located                   1\n",
       "CHANGED COURT DATE                     1\n",
       "CITF                                   1\n",
       "CORRECTIVE ACTION                      1\n",
       "Canvass                           161253\n",
       "Complaint                          42761\n",
       "Consultation                         675\n",
       "Duplicated                             1\n",
       "FIRE                                   1\n",
       "HACCP QUESTIONAIRE                     1\n",
       "Illegal Operation                      5\n",
       "KIDS CAFE                              1\n",
       "KITCHEN CLOSED FOR RENOVATION          1\n",
       "Kids Cafe'                             1\n",
       "License                            45913\n",
       "NO ENTRY                               8\n",
       "No Entry                              60\n",
       "No entry                               1\n",
       "Non-Inspection                      2276\n",
       "Not Ready                             20\n",
       "O.B.                                   1\n",
       "OUT OF BUSINESS                       23\n",
       "Out of Business                      283\n",
       "POSSIBLE FBI                           1\n",
       "RE-INSPECTION OF CLOSE-UP              1\n",
       "RECALL INSPECTION                      1\n",
       "REINSPECTION                           2\n",
       "REINSPECTION OF 48 HOUR NOTICE         2\n",
       "Recent Inspection                    443\n",
       "Recent inspection                      1\n",
       "Sample Collection                      1\n",
       "Special Events (Festivals)            61\n",
       "Summer Feeding                         1\n",
       "Suspected Food Poisoning            1173\n",
       "TASTE OF CHICAGO                       1\n",
       "TAVERN 1470                            1\n",
       "Tag Removal                          601\n",
       "Task Force                           316\n",
       "Unknown                                1\n",
       "citation re-issued                     1\n",
       "error save                             1\n",
       "expansion                              1\n",
       "no entry                               4\n",
       "out ofbusiness                         1\n",
       "Name: Inspection ID, dtype: int64"
      ]
     },
     "execution_count": 58,
     "metadata": {},
     "output_type": "execute_result"
    }
   ],
   "source": [
    "data.groupby(by='Inspection Type')['Inspection ID'].count()"
   ]
  },
  {
   "cell_type": "markdown",
   "id": "ead1dedf-e161-497e-923d-e2ca7932a9bd",
   "metadata": {},
   "source": [
    "There are still a lot of values that appear only once in the entire dataset. There are also ones that could be merged into single categories (e.g. \"no entry\", \"out of business\", \"recent inspection\"). We also decide to leave the categories with significant amount of records, such as \"Consultation\". The ones we decide to drop will be reclassified under \"Unknown\" category."
   ]
  },
  {
   "cell_type": "code",
   "execution_count": 59,
   "id": "429d971a-861d-46a6-b8ab-9bbb39960f3d",
   "metadata": {},
   "outputs": [],
   "source": [
    "# Replaces records with keyword found in category name to be classified in a given target category\n",
    "def merge_categories(keyword, target_category):\n",
    "  categories_containing_keyword = data['Inspection Type'].str.lower().str.contains(keyword)\n",
    "  data.loc[categories_containing_keyword, 'Inspection Type'] = target_category  "
   ]
  },
  {
   "cell_type": "code",
   "execution_count": 60,
   "id": "b49ec7d0-da4a-4dbc-a3af-1e5612ab0ee5",
   "metadata": {},
   "outputs": [],
   "source": [
    "merge_categories('recent inspection', 'Recent Inspection')\n",
    "merge_categories('out of business', 'Out of Business')\n",
    "merge_categories('no entry', 'No Entry')"
   ]
  },
  {
   "cell_type": "code",
   "execution_count": 61,
   "id": "eb030414-3f7f-4173-8573-03de7a3efe56",
   "metadata": {},
   "outputs": [],
   "source": [
    "known_list = ['License', 'Canvass', 'Complaint', 'Consultation', 'No Entry', 'Out of Business', 'Recent Inspection', 'Suspected Food Poisoning', 'Tag Removal', 'Task Force']\n",
    "# Classify the rest as unknown\n",
    "data.loc[~data['Inspection Type'].isin(known_list), 'Inspection Type'] = 'Unknown'"
   ]
  },
  {
   "cell_type": "code",
   "execution_count": 62,
   "id": "3973b10e-26ba-4080-85b7-be4873604d3f",
   "metadata": {
    "scrolled": true
   },
   "outputs": [
    {
     "data": {
      "text/plain": [
       "Inspection Type\n",
       "Canvass                     161253\n",
       "Complaint                    42761\n",
       "Consultation                   675\n",
       "License                      45913\n",
       "No Entry                        73\n",
       "Out of Business                306\n",
       "Recent Inspection              444\n",
       "Suspected Food Poisoning      1173\n",
       "Tag Removal                    601\n",
       "Task Force                     316\n",
       "Unknown                       2390\n",
       "Name: Inspection ID, dtype: int64"
      ]
     },
     "execution_count": 62,
     "metadata": {},
     "output_type": "execute_result"
    }
   ],
   "source": [
    "data.groupby(by='Inspection Type')['Inspection ID'].count()"
   ]
  },
  {
   "cell_type": "markdown",
   "id": "3aed6558-8084-453d-be09-8f0eac55b35b",
   "metadata": {},
   "source": [
    "Additionally, let's propagate \"Out of Business\" indication to \"Results\" column where it should be indicated:"
   ]
  },
  {
   "cell_type": "code",
   "execution_count": 63,
   "id": "69baaa96-15c9-42f6-a683-23642cffbda5",
   "metadata": {},
   "outputs": [],
   "source": [
    "out_of_business = data[data['Inspection Type'] == 'Out of Business'].index\n",
    "data.loc[out_of_business, 'Results'] = 'Out of Business'"
   ]
  },
  {
   "cell_type": "markdown",
   "id": "5e8cac62-9e43-4745-9c6e-f7057813c1a9",
   "metadata": {},
   "source": [
    "## Handling missing data"
   ]
  },
  {
   "cell_type": "code",
   "execution_count": 64,
   "id": "58b18d79-809c-449a-ad7d-2c746f34b2c1",
   "metadata": {},
   "outputs": [
    {
     "data": {
      "text/plain": [
       "Text(0.5, 1.0, 'Counts of missing values')"
      ]
     },
     "execution_count": 64,
     "metadata": {},
     "output_type": "execute_result"
    },
    {
     "data": {
      "image/png": "[encoded data removed]",
      "text/plain": [
       "<Figure size 1000x1000 with 1 Axes>"
      ]
     },
     "metadata": {},
     "output_type": "display_data"
    }
   ],
   "source": [
    "plt.figure(figsize=(10,10))\n",
    "sns.barplot(x=data.isnull().sum().sort_values(ascending=False),y=data.isnull().sum().sort_values(ascending=False).index)\n",
    "plt.title(\"Counts of missing values\",size=20)"
   ]
  },
  {
   "cell_type": "code",
   "execution_count": 65,
   "id": "89b9d914-4cfd-4963-bae7-419f6e029604",
   "metadata": {},
   "outputs": [
    {
     "data": {
      "text/plain": [
       "Inspection ID          0\n",
       "DBA Name               0\n",
       "AKA Name            2469\n",
       "License #              0\n",
       "Facility Type       5059\n",
       "Risk                  77\n",
       "Address                0\n",
       "City                   0\n",
       "State                 53\n",
       "Zip                    0\n",
       "Inspection Date        0\n",
       "Inspection Type        0\n",
       "Results                0\n",
       "Violations         69815\n",
       "Latitude               0\n",
       "Longitude              0\n",
       "Location               0\n",
       "Re-inspection          0\n",
       "dtype: int64"
      ]
     },
     "execution_count": 65,
     "metadata": {},
     "output_type": "execute_result"
    }
   ],
   "source": [
    "data.isna().sum()"
   ]
  },
  {
   "cell_type": "code",
   "execution_count": 66,
   "id": "dfb3a68f-3d3d-4dfe-ac48-5ed58651f360",
   "metadata": {},
   "outputs": [
    {
     "data": {
      "text/plain": [
       "(255905, 18)"
      ]
     },
     "execution_count": 66,
     "metadata": {},
     "output_type": "execute_result"
    }
   ],
   "source": [
    "data.shape"
   ]
  },
  {
   "cell_type": "markdown",
   "id": "8f8f1efc-09c1-4d4b-b6bc-1cac99267c9e",
   "metadata": {},
   "source": [
    "## Violations column"
   ]
  },
  {
   "cell_type": "code",
   "execution_count": 67,
   "id": "406fee03-906c-434d-acd6-18ce904553ff",
   "metadata": {},
   "outputs": [
    {
     "data": {
      "text/plain": [
       "count                                                186090\n",
       "unique                                               184905\n",
       "top       32. FOOD AND NON-FOOD CONTACT SURFACES PROPERL...\n",
       "freq                                                     11\n",
       "Name: Violations, dtype: object"
      ]
     },
     "execution_count": 67,
     "metadata": {},
     "output_type": "execute_result"
    }
   ],
   "source": [
    "data['Violations'].describe()"
   ]
  },
  {
   "cell_type": "markdown",
   "id": "cbe91f7d-6f9b-4770-8e56-2cc548615926",
   "metadata": {},
   "source": [
    "Violations: An establishment can receive one or more of 45 distinct violations (violation \r\n",
    "numbers 1-44 and 70). For each violation number listed for a given establishment, the \r\n",
    "requirement the establishment must meet in order for it to NOT receive a violation is \r\n",
    "noted, followed by a specific description of the findings that caused the violation to be \r\n",
    "issed. "
   ]
  },
  {
   "cell_type": "markdown",
   "id": "3117efb5-34ad-4711-83b7-9c63bbcb279d",
   "metadata": {},
   "source": [
    "From this information we can see, that NaN values are No violations. I will replace them now"
   ]
  },
  {
   "cell_type": "code",
   "execution_count": 68,
   "id": "1a3a4b46-c0fa-4ba9-8a77-d456be2fe607",
   "metadata": {},
   "outputs": [],
   "source": [
    "data['Violations'] = data['Violations'].fillna('No Violations')"
   ]
  },
  {
   "cell_type": "markdown",
   "id": "cb141020-ddc0-43cd-bc37-295a3a615b51",
   "metadata": {},
   "source": [
    "## AKA and DBA columns"
   ]
  },
  {
   "cell_type": "markdown",
   "id": "f682a593-e935-4fbf-80e9-4854b61892b9",
   "metadata": {},
   "source": [
    "Now let's analyze AKA column, because in my opinion, it doesn't look useful for our model"
   ]
  },
  {
   "cell_type": "code",
   "execution_count": 69,
   "id": "54995a03-769c-4ad8-aa84-d6c1352c233a",
   "metadata": {},
   "outputs": [
    {
     "data": {
      "text/plain": [
       "count     253436\n",
       "unique     29872\n",
       "top       SUBWAY\n",
       "freq        4246\n",
       "Name: AKA Name, dtype: object"
      ]
     },
     "execution_count": 69,
     "metadata": {},
     "output_type": "execute_result"
    }
   ],
   "source": [
    "data['AKA Name'].describe()"
   ]
  },
  {
   "cell_type": "code",
   "execution_count": 70,
   "id": "9df17402-12ba-478c-a34f-dad298eee20a",
   "metadata": {},
   "outputs": [
    {
     "data": {
      "text/plain": [
       "count     255905\n",
       "unique     31392\n",
       "top       SUBWAY\n",
       "freq        3449\n",
       "Name: DBA Name, dtype: object"
      ]
     },
     "execution_count": 70,
     "metadata": {},
     "output_type": "execute_result"
    }
   ],
   "source": [
    "data['DBA Name'].describe()"
   ]
  },
  {
   "cell_type": "markdown",
   "id": "02ba8d61-f813-4fb9-a030-4f05b490a9ce",
   "metadata": {},
   "source": [
    "A lot of unique names. But there are a lot of missing information in AKA Name column so I would get rid of it. DBA Name is more stable and doesn't have any missing values. But to be sure, I will check on outliers"
   ]
  },
  {
   "cell_type": "code",
   "execution_count": 71,
   "id": "e55de771-fa69-4f83-b87d-36c91cc459a5",
   "metadata": {},
   "outputs": [],
   "source": [
    "aka_name_counts = data['AKA Name'].value_counts()\n",
    "\n",
    "outliers_aka_name = aka_name_counts[aka_name_counts <= 2]\n",
    "\n",
    "dba_name_counts = data['DBA Name'].value_counts()\n",
    "\n",
    "outliers_dba_name = dba_name_counts[dba_name_counts <= 2]"
   ]
  },
  {
   "cell_type": "code",
   "execution_count": 72,
   "id": "08aa1857-4fdf-4465-a896-413519909485",
   "metadata": {},
   "outputs": [
    {
     "data": {
      "text/plain": [
       "9299"
      ]
     },
     "execution_count": 72,
     "metadata": {},
     "output_type": "execute_result"
    }
   ],
   "source": [
    "outliers_aka_name.count()"
   ]
  },
  {
   "cell_type": "code",
   "execution_count": 73,
   "id": "bf8eceb7-a764-416d-b2f8-a08021f98cf0",
   "metadata": {},
   "outputs": [
    {
     "data": {
      "text/plain": [
       "9709"
      ]
     },
     "execution_count": 73,
     "metadata": {},
     "output_type": "execute_result"
    }
   ],
   "source": [
    "outliers_dba_name.count()"
   ]
  },
  {
   "cell_type": "markdown",
   "id": "bf1dfe69-0bf5-4b15-b765-44696f998c39",
   "metadata": {},
   "source": [
    "10000 values is a lot. Let's analyze if they have impact, but we have to change our results column."
   ]
  },
  {
   "cell_type": "code",
   "execution_count": 74,
   "id": "6208ad45-93b7-4783-b0d1-df4eb37720b0",
   "metadata": {},
   "outputs": [
    {
     "name": "stdout",
     "output_type": "stream",
     "text": [
      "255905\n"
     ]
    }
   ],
   "source": [
    "result_mapping = {'Pass': 1, 'Fail': 0, 'Pass w/ Conditions': 1, \n",
    "                  'Out of Business': 0, 'No Entry': 0, 'Not Ready': 0, 'Business Not Located': 0}\n",
    "\n",
    "# Replace the values in the Results column according to the mapping dictionary\n",
    "data['Results'] = data['Results'].replace(result_mapping)\n",
    "\n",
    "print(data['Results'].value_counts().sum())"
   ]
  },
  {
   "cell_type": "code",
   "execution_count": 75,
   "id": "281c4a8b-24fb-4b89-b51b-30760e0904db",
   "metadata": {
    "scrolled": true
   },
   "outputs": [
    {
     "name": "stdout",
     "output_type": "stream",
     "text": [
      "Pass rate for common names: 0.6808156042961195\n",
      "Pass rate for rare names: 0.4256688639007367\n",
      "Pass rate for common DBA names: 0.6817752324050884\n",
      "Pass rate for rare DBA names: 0.42080011809861234\n"
     ]
    }
   ],
   "source": [
    "aka_name_outliers = data['AKA Name'].isin(outliers_aka_name.index)\n",
    "\n",
    "print('Pass rate for common names:', data[~aka_name_outliers]['Results'].mean())\n",
    "print('Pass rate for rare names:', data[aka_name_outliers]['Results'].mean())\n",
    "\n",
    "dba_name_outliers = data['DBA Name'].isin(outliers_dba_name.index)\n",
    "\n",
    "print('Pass rate for common DBA names:', data[~dba_name_outliers]['Results'].mean())\n",
    "print('Pass rate for rare DBA names:', data[dba_name_outliers]['Results'].mean())"
   ]
  },
  {
   "cell_type": "markdown",
   "id": "9393af13-4dcc-4362-8025-1a2a585beb5c",
   "metadata": {},
   "source": [
    "## Interesting"
   ]
  },
  {
   "cell_type": "markdown",
   "id": "bedd2329-8d7d-41b8-843e-4b86f6c90173",
   "metadata": {},
   "source": [
    "As we can see this columns are very important "
   ]
  },
  {
   "cell_type": "code",
   "execution_count": 76,
   "id": "3b9f1f01-6641-4559-b0a7-61085b5bc0d7",
   "metadata": {},
   "outputs": [
    {
     "data": {
      "image/png": "[encoded data removed]",
      "text/plain": [
       "<Figure size 1000x1000 with 2 Axes>"
      ]
     },
     "metadata": {},
     "output_type": "display_data"
    }
   ],
   "source": [
    "fig, ax = plt.subplots(2, 1, figsize=(10,10))\n",
    "\n",
    "AKA_counts = data['AKA Name'].value_counts()\n",
    "AKA_counts = np.log1p(AKA_counts)\n",
    "\n",
    "ax[0].hist(AKA_counts, bins=100)\n",
    "ax[0].set_title('AKA Name Frequency Distribution')\n",
    "ax[0].set_xlabel('Frequency')\n",
    "ax[0].set_ylabel('Number of Names')\n",
    "\n",
    "DBA_counts = data['DBA Name'].value_counts()\n",
    "DBA_counts = np.log1p(DBA_counts)\n",
    "\n",
    "ax[1].hist(DBA_counts, bins=100)\n",
    "ax[1].set_title('DBA Name Frequency Distribution')\n",
    "ax[1].set_xlabel('Frequency')\n",
    "ax[1].set_ylabel('Number of Names')\n",
    "\n",
    "plt.show()"
   ]
  },
  {
   "cell_type": "code",
   "execution_count": 77,
   "id": "4fdf0c28-8021-46dd-bbb8-957a0fdf1772",
   "metadata": {
    "scrolled": true
   },
   "outputs": [
    {
     "name": "stderr",
     "output_type": "stream",
     "text": [
      "C:\\Users\\ncpaa\\AppData\\Local\\Programs\\Python\\Python311\\Lib\\site-packages\\fuzzywuzzy\\fuzz.py:11: UserWarning: Using slow pure-python SequenceMatcher. Install python-Levenshtein to remove this warning\n",
      "  warnings.warn('Using slow pure-python SequenceMatcher. Install python-Levenshtein to remove this warning')\n"
     ]
    },
    {
     "name": "stdout",
     "output_type": "stream",
     "text": [
      "Threshold: 2\n",
      "{'AKA Name': {'Common': 0.6808156042961195, 'Rare': 0.4256688639007367}, 'DBA Name': {'Common': 0.6817752324050884, 'Rare': 0.42080011809861234}}\n",
      "\n",
      "Threshold: 10\n",
      "{'AKA Name': {'Common': 0.7125336196049913, 'Rare': 0.5745072177921905}, 'DBA Name': {'Common': 0.7185559816545497, 'Rare': 0.571809053199447}}\n",
      "\n",
      "Threshold: 20\n",
      "{'AKA Name': {'Common': 0.7058617304725845, 'Rare': 0.6489171211685346}, 'DBA Name': {'Common': 0.7181500095425918, 'Rare': 0.6457109018103886}}\n",
      "\n",
      "Threshold: 50\n",
      "{'AKA Name': {'Common': 0.7264758808846578, 'Rare': 0.6588545547321981}, 'DBA Name': {'Common': 0.762159352491275, 'Rare': 0.6568779452419738}}\n",
      "\n",
      "Threshold: 100\n",
      "{'AKA Name': {'Common': 0.7265278921165079, 'Rare': 0.6614741575374572}, 'DBA Name': {'Common': 0.7746704666904168, 'Rare': 0.660440971626726}}\n",
      "\n"
     ]
    }
   ],
   "source": [
    "from utils import pass_rates\n",
    "# Test the function with different thresholds\n",
    "for threshold in [2, 10, 20, 50, 100]:\n",
    "    print(f'Threshold: {threshold}')\n",
    "    print(pass_rates(data, threshold))\n",
    "    print()"
   ]
  },
  {
   "cell_type": "markdown",
   "id": "fdde8fc4-bd04-4fe0-a4a8-f2ff482a025c",
   "metadata": {},
   "source": [
    "We've chosen to use a threshold of 2 for determining \"rare\" names based on our analysis of pass rates for common and rare restaurant names. This means that any establishment name that appears two or fewer times in our dataset is considered \"rare\". \r\n",
    "\r\n",
    "Our observations showed that there is a significant difference between pass rates for commonly appearing names and those that are rarer. Specifically, the pass rate for common names was approximately 68%, while for rarer names, this dropped to around 44%. \r\n",
    "\r\n",
    "This pattern was consistent across both \"AKA Name\" and \"DBA Name\" categories, suggesting that it's not a fluke, but rather a genuine pattern in our data. \r\n",
    "\r\n",
    "We hypothesize that this pattern may arise due to a variety of factors. For example, it could be that less established or less known establishments, which might be more likely to have unique names, are less likely to pass inspections due to a lack of experience or resources. \r\n",
    "\r\n",
    "By incorporating this \"rare name\" information into our predictive model, we hope to capture some of this variation in pass rates and improve our model's accuracy.\r\n",
    "\r\n",
    "Of course, this is just one approach, and there might be other, possibly more effective ways to handle this aspect of the data. We will continually evaluate the performance of our model and adjust our strategy as necessary."
   ]
  },
  {
   "cell_type": "markdown",
   "id": "33d13fe8-2810-4f21-ad86-2c1694bcdcce",
   "metadata": {},
   "source": [
    "Okay, but what about AKA and DBA. The results looks similar for both. Let's go deeper."
   ]
  },
  {
   "cell_type": "code",
   "execution_count": 78,
   "id": "57df81bd-b2bd-469c-b97e-d23df985ba06",
   "metadata": {},
   "outputs": [
    {
     "name": "stdout",
     "output_type": "stream",
     "text": [
      "The names match in 73.2% of cases.\n"
     ]
    }
   ],
   "source": [
    "matching_names = (data['AKA Name'] == data['DBA Name']).mean()\n",
    "print('The names match in {:.1%} of cases.'.format(matching_names))"
   ]
  },
  {
   "cell_type": "code",
   "execution_count": 79,
   "id": "a2368dae-c17b-4549-b7ec-e75596ff22b6",
   "metadata": {
    "scrolled": true
   },
   "outputs": [
    {
     "name": "stdout",
     "output_type": "stream",
     "text": [
      "Facility Type\n",
      "Restaurant                                    1126\n",
      "Grocery Store                                  707\n",
      "Mobile Food Dispenser                           69\n",
      "Liquor                                          49\n",
      "School                                          48\n",
      "Wholesale                                       42\n",
      "Bakery                                          37\n",
      "Daycare (2 - 6 Years)                           27\n",
      "Children's Services Facility                    22\n",
      "Daycare Above and Under 2 Years                 12\n",
      "COMMISSARY FOR SOFT SERVE ICE CREAM TRUCKS      12\n",
      "Daycare Combo 1586                              12\n",
      "TAVERN                                          11\n",
      "Catering                                         9\n",
      "Golden Diner                                     7\n",
      "GROCERY STORE/DELI                               5\n",
      "Special Event                                    5\n",
      "EXERCISE AND NUTRITION BAR                       5\n",
      "ROOFTOP                                          4\n",
      "RETAIL STORE                                     4\n",
      "Shared Kitchen User (Long Term)                  4\n",
      "DAY CARE 1023                                    4\n",
      "Navy Pier Kiosk                                  4\n",
      "Pop-Up Establishment Host-Tier II                4\n",
      "HOTEL                                            3\n",
      "GENERAL STORE                                    3\n",
      "tavern                                           3\n",
      "Pop-Up Food Establishment User-Tier II           3\n",
      "Shared Kitchen                                   3\n",
      "convenience store                                3\n",
      "Mobile Food Preparer                             3\n",
      "Candy                                            3\n",
      "GROCERY STORE/GAS STATION                        2\n",
      "CHURCH                                           2\n",
      "CONVENIENT STORE                                 2\n",
      "LINITED BUSINESS                                 2\n",
      "Daycare (Under 2 Years)                          2\n",
      "CONVENIENCE                                      2\n",
      "Illegal Vendor                                   2\n",
      "AFTER SCHOOL PROGRAM                             2\n",
      "Shared Kitchen User (Short Term)                 2\n",
      "RETAIL                                           1\n",
      "ROOFTOP PATIO                                    1\n",
      "AFTER SCHOOL CARE                                1\n",
      "GAS STATION/GROCERY                              1\n",
      "Other                                            1\n",
      "ALTERNATIVE SCHOOL                               1\n",
      "CAT/LIQUOR                                       1\n",
      "MOBILE DESSERT CART                              1\n",
      "MOBILE DESSERT VENDOR                            1\n",
      "MOBILE FROZEN DESSERTS VENDOR                    1\n",
      "PUBLIC SHCOOL                                    1\n",
      "RESTAURANT AND LIQUOR                            1\n",
      "Mobile Frozen Desserts Vendor                    1\n",
      "religious                                        1\n",
      "Name: Facility Type, dtype: int64\n",
      "Risks\n",
      "Risk 1 (High)      985\n",
      "Risk 3 (Low)       757\n",
      "Risk 2 (Medium)    687\n",
      "All                 10\n",
      "Name: Risk, dtype: int64\n",
      "Results\n",
      "0    1431\n",
      "1    1038\n",
      "Name: Results, dtype: int64\n"
     ]
    }
   ],
   "source": [
    "# Assuming df is your DataFrame and 'AKA Name' is the column with missing values\n",
    "missing_akas = data['AKA Name'].isna()\n",
    "\n",
    "# Analyzing distribution of missing 'AKA Name' across different categories\n",
    "print('Facility Type')\n",
    "print(data[missing_akas]['Facility Type'].value_counts())\n",
    "print('Risks')\n",
    "print(data[missing_akas]['Risk'].value_counts())\n",
    "print('Results')\n",
    "print(data[missing_akas]['Results'].value_counts())"
   ]
  },
  {
   "cell_type": "markdown",
   "id": "07df2f66-be73-4133-a228-691731ce879f",
   "metadata": {},
   "source": [
    "Facility Type: The 'Facility Type' column contains a variety of categories, including 'Restaurant', 'Grocery Store', 'School', 'Liquor', and others. Since the 'AKA Name' is the name the public would know the establishment as, and considering that 'Restaurant' is the most common facility type, the 'DBA Name' is likely to be recognizable to the public in most cases. Thus, the 'AKA Name' might not provide substantial additional information for predicting the 'Results'.\n",
    "\n",
    "Risks: The 'Risks' column indicates the risk level of the establishment, with Risk 1 (High), Risk 2 (Medium), and Risk 3 (Low). The distribution of risks is relatively balanced, indicating that the risk level alone might not be a strong predictor for the 'Results'. Therefore, the 'AKA Name' may not provide significant predictive value in this context.\n",
    "\n",
    "Results: The 'Results' column shows that there is a somewhat balanced distribution between passing (0) and failing (1) inspections. This balance suggests that other features, such as violations or inspection type, might play a more influential role in predicting the 'Results' rather than the specific naming (AKA or DBA).\n",
    "\n",
    "Given these considerations, dropping the 'AKA Name' column is likely to have minimal impact on the prediction of the 'Results'."
   ]
  },
  {
   "cell_type": "code",
   "execution_count": 80,
   "id": "96451dad-1b90-4dc3-8faa-d5c133283c2a",
   "metadata": {},
   "outputs": [],
   "source": [
    "data.drop('AKA Name', axis = 1, inplace = True)"
   ]
  },
  {
   "cell_type": "markdown",
   "id": "48ea5e31-dfdd-4ebd-9eeb-25bf339a6692",
   "metadata": {},
   "source": [
    "Let's check if there is any missing values left in our dataset"
   ]
  },
  {
   "cell_type": "code",
   "execution_count": 81,
   "id": "c74201ad-abe5-48b4-8bb3-b72302e3044c",
   "metadata": {},
   "outputs": [
    {
     "data": {
      "text/plain": [
       "Inspection ID         0\n",
       "DBA Name              0\n",
       "License #             0\n",
       "Facility Type      5059\n",
       "Risk                 77\n",
       "Address               0\n",
       "City                  0\n",
       "State                53\n",
       "Zip                   0\n",
       "Inspection Date       0\n",
       "Inspection Type       0\n",
       "Results               0\n",
       "Violations            0\n",
       "Latitude              0\n",
       "Longitude             0\n",
       "Location              0\n",
       "Re-inspection         0\n",
       "dtype: int64"
      ]
     },
     "execution_count": 81,
     "metadata": {},
     "output_type": "execute_result"
    }
   ],
   "source": [
    "data.isna().sum()"
   ]
  },
  {
   "cell_type": "markdown",
   "id": "8bbabfba-3f0e-4659-9ca3-27b1d28ebf82",
   "metadata": {},
   "source": [
    "Same DBA's have everything same, so we can group them"
   ]
  },
  {
   "cell_type": "code",
   "execution_count": 82,
   "id": "328aa1f1-2c14-49bd-8983-12ad689bfc74",
   "metadata": {},
   "outputs": [],
   "source": [
    "for column in ['Facility Type', 'License #', 'Risk']:\n",
    "    data.loc[:, column] = data.groupby('License #')[column].transform(lambda x: x.fillna(x.mode().iloc[0] if not x.mode().empty else np.nan))"
   ]
  },
  {
   "cell_type": "markdown",
   "id": "ac39be13-97d5-4bb6-a383-8919a04f30bc",
   "metadata": {},
   "source": [
    "Also same Facility type have same risk. I think this is good logic :)"
   ]
  },
  {
   "cell_type": "code",
   "execution_count": 83,
   "id": "fd6e7896-1db9-430b-b2b8-69faa1d8e2c4",
   "metadata": {
    "scrolled": true
   },
   "outputs": [
    {
     "name": "stderr",
     "output_type": "stream",
     "text": [
      "C:\\Users\\ncpaa\\AppData\\Local\\Temp\\ipykernel_11160\\1085365725.py:1: FutureWarning: Not prepending group keys to the result index of transform-like apply. In the future, the group keys will be included in the index, regardless of whether the applied function returns a like-indexed object.\n",
      "To preserve the previous behavior, use\n",
      "\n",
      "\t>>> .groupby(..., group_keys=False)\n",
      "\n",
      "To adopt the future behavior and silence this warning, use \n",
      "\n",
      "\t>>> .groupby(..., group_keys=True)\n",
      "  data['Facility Type'] = data.groupby('Risk')['Facility Type'].apply(lambda x: x.fillna(x.mode().iloc[0] if not x.mode().empty else np.nan))\n"
     ]
    }
   ],
   "source": [
    "data['Facility Type'] = data.groupby('Risk')['Facility Type'].apply(lambda x: x.fillna(x.mode().iloc[0] if not x.mode().empty else np.nan))"
   ]
  },
  {
   "cell_type": "markdown",
   "id": "ed6f7f20-d587-4b13-8104-5e25a066887c",
   "metadata": {},
   "source": [
    "License number is unique, and we can't fill it. So we replace it with placeholder. We can even delete it"
   ]
  },
  {
   "cell_type": "markdown",
   "id": "184c4684-5b3d-449d-9131-23858d69751f",
   "metadata": {},
   "source": [
    "There are some missing data left and their amount is same. I can assume it's the same rows. So I will fill them with Address"
   ]
  },
  {
   "cell_type": "code",
   "execution_count": 84,
   "id": "2d9ffb66-6b39-4873-9943-643214a2688b",
   "metadata": {},
   "outputs": [],
   "source": [
    "data['Facility Type'].fillna('Unknown', inplace=True)\n",
    "data['Risk'].fillna('Unknown', inplace=True)\n",
    "\n",
    "state_fill_value = data['State'].mode().iloc[0] \n",
    "data['State'].fillna(state_fill_value, inplace=True)"
   ]
  },
  {
   "cell_type": "markdown",
   "id": "d6dbcb47-f6d9-4ca9-abc7-8fdb02552d85",
   "metadata": {},
   "source": [
    "I would also drop Inspection ID because it has low correlation"
   ]
  },
  {
   "cell_type": "code",
   "execution_count": 85,
   "id": "a65a5edb-3eda-42b2-bd02-b7cc941ed458",
   "metadata": {},
   "outputs": [],
   "source": [
    "data.drop('Inspection ID', axis = 1, inplace = True)"
   ]
  },
  {
   "cell_type": "code",
   "execution_count": 86,
   "id": "4e25d9f6-7922-40e5-ba43-0c4ef81fba6d",
   "metadata": {},
   "outputs": [],
   "source": [
    "data['Re-inspection'] = data['Re-inspection'].map(lambda x: int(x))"
   ]
  },
  {
   "cell_type": "code",
   "execution_count": 87,
   "id": "115cd829-6ee4-4a39-b0dd-3fe876cb881d",
   "metadata": {},
   "outputs": [
    {
     "data": {
      "text/html": [
       "<div>\n",
       "<style scoped>\n",
       "    .dataframe tbody tr th:only-of-type {\n",
       "        vertical-align: middle;\n",
       "    }\n",
       "\n",
       "    .dataframe tbody tr th {\n",
       "        vertical-align: top;\n",
       "    }\n",
       "\n",
       "    .dataframe thead th {\n",
       "        text-align: right;\n",
       "    }\n",
       "</style>\n",
       "<table border=\"1\" class=\"dataframe\">\n",
       "  <thead>\n",
       "    <tr style=\"text-align: right;\">\n",
       "      <th></th>\n",
       "      <th>DBA Name</th>\n",
       "      <th>License #</th>\n",
       "      <th>Facility Type</th>\n",
       "      <th>Risk</th>\n",
       "      <th>Address</th>\n",
       "      <th>City</th>\n",
       "      <th>State</th>\n",
       "      <th>Zip</th>\n",
       "      <th>Inspection Date</th>\n",
       "      <th>Inspection Type</th>\n",
       "      <th>Results</th>\n",
       "      <th>Violations</th>\n",
       "      <th>Latitude</th>\n",
       "      <th>Longitude</th>\n",
       "      <th>Location</th>\n",
       "      <th>Re-inspection</th>\n",
       "    </tr>\n",
       "  </thead>\n",
       "  <tbody>\n",
       "    <tr>\n",
       "      <th>0</th>\n",
       "      <td>JERSEY MIKES</td>\n",
       "      <td>2886344</td>\n",
       "      <td>Restaurant</td>\n",
       "      <td>Risk 1 (High)</td>\n",
       "      <td>6153 N BROADWAY</td>\n",
       "      <td>Chicago</td>\n",
       "      <td>IL</td>\n",
       "      <td>60660</td>\n",
       "      <td>2023-01-10</td>\n",
       "      <td>License</td>\n",
       "      <td>0</td>\n",
       "      <td>No Violations</td>\n",
       "      <td>41.993854</td>\n",
       "      <td>-87.660239</td>\n",
       "      <td>(41.99385357489393, -87.66023863563797)</td>\n",
       "      <td>0</td>\n",
       "    </tr>\n",
       "    <tr>\n",
       "      <th>1</th>\n",
       "      <td>HOT DOG EXPRESS</td>\n",
       "      <td>1909525</td>\n",
       "      <td>Restaurant</td>\n",
       "      <td>Risk 2 (Medium)</td>\n",
       "      <td>11601 W TOUHY AVE</td>\n",
       "      <td>Chicago</td>\n",
       "      <td>IL</td>\n",
       "      <td>60666</td>\n",
       "      <td>2022-12-05</td>\n",
       "      <td>Canvass</td>\n",
       "      <td>1</td>\n",
       "      <td>No Violations</td>\n",
       "      <td>42.008536</td>\n",
       "      <td>-87.914428</td>\n",
       "      <td>(42.008536400868735, -87.91442843927047)</td>\n",
       "      <td>0</td>\n",
       "    </tr>\n",
       "    <tr>\n",
       "      <th>2</th>\n",
       "      <td>SBARRO</td>\n",
       "      <td>2882176</td>\n",
       "      <td>Restaurant</td>\n",
       "      <td>Risk 1 (High)</td>\n",
       "      <td>500 W MADISON ST</td>\n",
       "      <td>Chicago</td>\n",
       "      <td>IL</td>\n",
       "      <td>60661</td>\n",
       "      <td>2022-12-05</td>\n",
       "      <td>License</td>\n",
       "      <td>0</td>\n",
       "      <td>No Violations</td>\n",
       "      <td>41.881994</td>\n",
       "      <td>-87.639759</td>\n",
       "      <td>(41.88199433820508, -87.6397586848809)</td>\n",
       "      <td>0</td>\n",
       "    </tr>\n",
       "    <tr>\n",
       "      <th>3</th>\n",
       "      <td>EL POLLO REAL</td>\n",
       "      <td>2232132</td>\n",
       "      <td>Restaurant</td>\n",
       "      <td>Risk 1 (High)</td>\n",
       "      <td>3835 W 31ST ST</td>\n",
       "      <td>Chicago</td>\n",
       "      <td>IL</td>\n",
       "      <td>60623</td>\n",
       "      <td>2022-11-30</td>\n",
       "      <td>Canvass</td>\n",
       "      <td>1</td>\n",
       "      <td>No Violations</td>\n",
       "      <td>41.836834</td>\n",
       "      <td>-87.720832</td>\n",
       "      <td>(41.836833676558776, -87.72083154727216)</td>\n",
       "      <td>0</td>\n",
       "    </tr>\n",
       "    <tr>\n",
       "      <th>4</th>\n",
       "      <td>KOTO</td>\n",
       "      <td>2872350</td>\n",
       "      <td>Restaurant</td>\n",
       "      <td>Risk 1 (High)</td>\n",
       "      <td>258 W 31ST ST</td>\n",
       "      <td>Chicago</td>\n",
       "      <td>IL</td>\n",
       "      <td>60616</td>\n",
       "      <td>2022-10-07</td>\n",
       "      <td>License</td>\n",
       "      <td>1</td>\n",
       "      <td>No Violations</td>\n",
       "      <td>41.838316</td>\n",
       "      <td>-87.634045</td>\n",
       "      <td>(41.83831568602238, -87.6340451596087)</td>\n",
       "      <td>0</td>\n",
       "    </tr>\n",
       "  </tbody>\n",
       "</table>\n",
       "</div>"
      ],
      "text/plain": [
       "          DBA Name  License # Facility Type             Risk  \\\n",
       "0     JERSEY MIKES    2886344    Restaurant    Risk 1 (High)   \n",
       "1  HOT DOG EXPRESS    1909525    Restaurant  Risk 2 (Medium)   \n",
       "2           SBARRO    2882176    Restaurant    Risk 1 (High)   \n",
       "3    EL POLLO REAL    2232132    Restaurant    Risk 1 (High)   \n",
       "4             KOTO    2872350    Restaurant    Risk 1 (High)   \n",
       "\n",
       "              Address     City State    Zip Inspection Date Inspection Type  \\\n",
       "0    6153 N BROADWAY   Chicago    IL  60660      2023-01-10         License   \n",
       "1  11601 W TOUHY AVE   Chicago    IL  60666      2022-12-05         Canvass   \n",
       "2   500 W MADISON ST   Chicago    IL  60661      2022-12-05         License   \n",
       "3     3835 W 31ST ST   Chicago    IL  60623      2022-11-30         Canvass   \n",
       "4      258 W 31ST ST   Chicago    IL  60616      2022-10-07         License   \n",
       "\n",
       "   Results     Violations   Latitude  Longitude  \\\n",
       "0        0  No Violations  41.993854 -87.660239   \n",
       "1        1  No Violations  42.008536 -87.914428   \n",
       "2        0  No Violations  41.881994 -87.639759   \n",
       "3        1  No Violations  41.836834 -87.720832   \n",
       "4        1  No Violations  41.838316 -87.634045   \n",
       "\n",
       "                                   Location  Re-inspection  \n",
       "0   (41.99385357489393, -87.66023863563797)              0  \n",
       "1  (42.008536400868735, -87.91442843927047)              0  \n",
       "2    (41.88199433820508, -87.6397586848809)              0  \n",
       "3  (41.836833676558776, -87.72083154727216)              0  \n",
       "4    (41.83831568602238, -87.6340451596087)              0  "
      ]
     },
     "execution_count": 87,
     "metadata": {},
     "output_type": "execute_result"
    }
   ],
   "source": [
    "data.head()"
   ]
  },
  {
   "cell_type": "code",
   "execution_count": 88,
   "id": "1b563b71-c962-43db-9417-adc6de19b3cc",
   "metadata": {},
   "outputs": [
    {
     "data": {
      "text/plain": [
       "SUBWAY                        3449\n",
       "DUNKIN DONUTS                 1802\n",
       "MCDONALD'S                     719\n",
       "7-ELEVEN                       524\n",
       "CHIPOTLE MEXICAN GRILL         406\n",
       "                              ... \n",
       "WALGREENS #1031                  1\n",
       "SMILIN' JIM'S SALOON             1\n",
       "EL RANCHITO                      1\n",
       "JEWEL FOOD STORE #3089           1\n",
       "GREAT AMERICAN BAGEL, INC.       1\n",
       "Name: DBA Name, Length: 31392, dtype: int64"
      ]
     },
     "execution_count": 88,
     "metadata": {},
     "output_type": "execute_result"
    }
   ],
   "source": [
    "data['DBA Name'].value_counts() "
   ]
  },
  {
   "cell_type": "code",
   "execution_count": 115,
   "id": "b63068c5-1b13-4272-8248-d1d01baf531d",
   "metadata": {
    "scrolled": true
   },
   "outputs": [
    {
     "name": "stdout",
     "output_type": "stream",
     "text": [
      "<class 'pandas.core.frame.DataFrame'>\n",
      "Int64Index: 255905 entries, 0 to 255904\n",
      "Data columns (total 9 columns):\n",
      " #   Column           Non-Null Count   Dtype \n",
      "---  ------           --------------   ----- \n",
      " 0   DBA Name         255905 non-null  object\n",
      " 1   Facility Type    255905 non-null  int64 \n",
      " 2   Risk             255905 non-null  int64 \n",
      " 3   Zip              255905 non-null  object\n",
      " 4   Inspection Type  255905 non-null  int64 \n",
      " 5   Results          255905 non-null  int64 \n",
      " 6   Re-inspection    255905 non-null  int64 \n",
      " 7   Violation Codes  255905 non-null  int32 \n",
      " 8   nb_violation     255905 non-null  int64 \n",
      "dtypes: int32(1), int64(6), object(2)\n",
      "memory usage: 26.6+ MB\n"
     ]
    }
   ],
   "source": [
    "data.info()"
   ]
  },
  {
   "cell_type": "code",
   "execution_count": 90,
   "id": "8b44d8f3-79de-4f3d-ae40-3332c8e31936",
   "metadata": {},
   "outputs": [
    {
     "data": {
      "text/plain": [
       "Risk 1 (High)      186526\n",
       "Risk 2 (Medium)     48057\n",
       "Risk 3 (Low)        21204\n",
       "Unknown                62\n",
       "All                    56\n",
       "Name: Risk, dtype: int64"
      ]
     },
     "execution_count": 90,
     "metadata": {},
     "output_type": "execute_result"
    }
   ],
   "source": [
    "data['Risk'].value_counts()"
   ]
  },
  {
   "cell_type": "code",
   "execution_count": 91,
   "id": "f332955a-86be-4c8f-b9e9-a739f690be77",
   "metadata": {},
   "outputs": [],
   "source": [
    "risk_mapping = {\"Risk 1 (High)\": \"3\", 'Risk 2 (Medium)': \"2\", \"Risk 3 (Low)\": \"1\", \"All\": \"1\", \"Unknown\" : \"1\"}\n",
    "data['Risk'] = data['Risk'].map(risk_mapping)"
   ]
  },
  {
   "cell_type": "code",
   "execution_count": 92,
   "id": "588df642-b085-4f34-81d0-5ba1297925bd",
   "metadata": {},
   "outputs": [
    {
     "data": {
      "text/plain": [
       "3    186526\n",
       "2     48057\n",
       "1     21322\n",
       "Name: Risk, dtype: int64"
      ]
     },
     "execution_count": 92,
     "metadata": {},
     "output_type": "execute_result"
    }
   ],
   "source": [
    "data['Risk'].value_counts()"
   ]
  },
  {
   "cell_type": "code",
   "execution_count": 93,
   "id": "dcffd705-b276-44c4-809b-734692274f36",
   "metadata": {},
   "outputs": [
    {
     "name": "stdout",
     "output_type": "stream",
     "text": [
      "<class 'pandas.core.frame.DataFrame'>\n",
      "Int64Index: 255905 entries, 0 to 255904\n",
      "Data columns (total 16 columns):\n",
      " #   Column           Non-Null Count   Dtype         \n",
      "---  ------           --------------   -----         \n",
      " 0   DBA Name         255905 non-null  object        \n",
      " 1   License #        255905 non-null  int64         \n",
      " 2   Facility Type    255905 non-null  object        \n",
      " 3   Risk             255905 non-null  object        \n",
      " 4   Address          255905 non-null  object        \n",
      " 5   City             255905 non-null  object        \n",
      " 6   State            255905 non-null  object        \n",
      " 7   Zip              255905 non-null  object        \n",
      " 8   Inspection Date  255905 non-null  datetime64[ns]\n",
      " 9   Inspection Type  255905 non-null  object        \n",
      " 10  Results          255905 non-null  int64         \n",
      " 11  Violations       255905 non-null  object        \n",
      " 12  Latitude         255905 non-null  float64       \n",
      " 13  Longitude        255905 non-null  float64       \n",
      " 14  Location         255905 non-null  object        \n",
      " 15  Re-inspection    255905 non-null  int64         \n",
      "dtypes: datetime64[ns](1), float64(2), int64(3), object(10)\n",
      "memory usage: 41.3+ MB\n"
     ]
    }
   ],
   "source": [
    "data.info()"
   ]
  },
  {
   "cell_type": "code",
   "execution_count": 94,
   "id": "ca620285-a49f-4e44-9fd3-bb2b7e6bf4d3",
   "metadata": {},
   "outputs": [],
   "source": [
    "data.fillna(value={'Violations': ''}, inplace=True)"
   ]
  },
  {
   "cell_type": "code",
   "execution_count": 95,
   "id": "22789e8b-7a77-4873-9606-22c759581dff",
   "metadata": {
    "scrolled": true
   },
   "outputs": [
    {
     "data": {
      "text/plain": [
       "0                                             No Violations\n",
       "1                                             No Violations\n",
       "2                                             No Violations\n",
       "3                                             No Violations\n",
       "4                                             No Violations\n",
       "                                ...                        \n",
       "255900    18. NO EVIDENCE OF RODENT OR INSECT OUTER OPEN...\n",
       "255901    18. NO EVIDENCE OF RODENT OR INSECT OUTER OPEN...\n",
       "255902    33. FOOD AND NON-FOOD CONTACT EQUIPMENT UTENSI...\n",
       "255903                                        No Violations\n",
       "255904                                        No Violations\n",
       "Name: Violations, Length: 255905, dtype: object"
      ]
     },
     "execution_count": 95,
     "metadata": {},
     "output_type": "execute_result"
    }
   ],
   "source": [
    "data.Violations"
   ]
  },
  {
   "cell_type": "code",
   "execution_count": 96,
   "id": "2cff04f4-ca99-41f0-be43-9b2073fcec17",
   "metadata": {},
   "outputs": [
    {
     "name": "stdout",
     "output_type": "stream",
     "text": [
      "          DBA Name  License # Facility Type Risk             Address     City  \\\n",
      "0     JERSEY MIKES    2886344    Restaurant    3    6153 N BROADWAY   Chicago   \n",
      "1  HOT DOG EXPRESS    1909525    Restaurant    2  11601 W TOUHY AVE   Chicago   \n",
      "2           SBARRO    2882176    Restaurant    3   500 W MADISON ST   Chicago   \n",
      "3    EL POLLO REAL    2232132    Restaurant    3     3835 W 31ST ST   Chicago   \n",
      "4             KOTO    2872350    Restaurant    3      258 W 31ST ST   Chicago   \n",
      "\n",
      "  State    Zip Inspection Date Inspection Type  Results     Violations  \\\n",
      "0    IL  60660      2023-01-10         License        0  No Violations   \n",
      "1    IL  60666      2022-12-05         Canvass        1  No Violations   \n",
      "2    IL  60661      2022-12-05         License        0  No Violations   \n",
      "3    IL  60623      2022-11-30         Canvass        1  No Violations   \n",
      "4    IL  60616      2022-10-07         License        1  No Violations   \n",
      "\n",
      "    Latitude  Longitude                                  Location  \\\n",
      "0  41.993854 -87.660239   (41.99385357489393, -87.66023863563797)   \n",
      "1  42.008536 -87.914428  (42.008536400868735, -87.91442843927047)   \n",
      "2  41.881994 -87.639759    (41.88199433820508, -87.6397586848809)   \n",
      "3  41.836834 -87.720832  (41.836833676558776, -87.72083154727216)   \n",
      "4  41.838316 -87.634045    (41.83831568602238, -87.6340451596087)   \n",
      "\n",
      "   Re-inspection Violation Codes  nb_violation  \n",
      "0              0             [0]             0  \n",
      "1              0             [0]             0  \n",
      "2              0             [0]             0  \n",
      "3              0             [0]             0  \n",
      "4              0             [0]             0  \n"
     ]
    }
   ],
   "source": [
    "import pandas as pd\n",
    "\n",
    "# Make sure that \"Violations\" is a string\n",
    "data['Violations'] = data['Violations'].astype(str)\n",
    "\n",
    "# Define function to extract violation codes\n",
    "def extract_violation_codes(violation):\n",
    "    if 'No Violations' in violation:\n",
    "        return [0]  # return list with 0 as violation code\n",
    "    else:\n",
    "        # Splitting at '.' and taking the first part (the violation code)\n",
    "        return [int(v.split('.')[0].strip()) for v in violation.split('|') if v.strip()]\n",
    "\n",
    "# Apply function to \"Violations\" column to create \"Violation Codes\"\n",
    "data['Violation Codes'] = data['Violations'].apply(extract_violation_codes)\n",
    "\n",
    "# Create \"nb_violation\" column as count of violation codes\n",
    "# Adjusting it to be 0 when \"Violation Codes\" contains a 0\n",
    "data['nb_violation'] = data['Violation Codes'].apply(lambda x: 0 if 0 in x else len(x))\n",
    "\n",
    "# Check the DataFrame\n",
    "print(data.head())"
   ]
  },
  {
   "cell_type": "code",
   "execution_count": 97,
   "id": "65d0528e-3931-437a-91de-76df472eb8f5",
   "metadata": {},
   "outputs": [
    {
     "name": "stdout",
     "output_type": "stream",
     "text": [
      "DBA Name           0\n",
      "License #          0\n",
      "Facility Type      0\n",
      "Risk               0\n",
      "Address            0\n",
      "City               0\n",
      "State              0\n",
      "Zip                0\n",
      "Inspection Date    0\n",
      "Inspection Type    0\n",
      "Results            0\n",
      "Violations         0\n",
      "Latitude           0\n",
      "Longitude          0\n",
      "Location           0\n",
      "Re-inspection      0\n",
      "Violation Codes    0\n",
      "nb_violation       0\n",
      "dtype: int64\n"
     ]
    }
   ],
   "source": [
    "missing_values = data.isnull().sum()\n",
    "print(missing_values)\n"
   ]
  },
  {
   "cell_type": "code",
   "execution_count": 98,
   "id": "45d6d387-96a5-4fde-8bde-ae119bef7631",
   "metadata": {},
   "outputs": [
    {
     "name": "stdout",
     "output_type": "stream",
     "text": [
      "1    170934\n",
      "0     84971\n",
      "Name: Results, dtype: int64\n"
     ]
    }
   ],
   "source": [
    "target_distribution = data['Results'].value_counts()\n",
    "print(target_distribution)\n"
   ]
  },
  {
   "cell_type": "code",
   "execution_count": 99,
   "id": "283459eb-9ad0-4cc1-bb4f-9e85323e74f2",
   "metadata": {},
   "outputs": [
    {
     "name": "stdout",
     "output_type": "stream",
     "text": [
      "               License #   Results  Latitude  Longitude  Re-inspection  \\\n",
      "License #       1.000000 -0.043758 -0.004788   0.036553       0.010217   \n",
      "Results        -0.043758  1.000000  0.005131  -0.000602       0.234658   \n",
      "Latitude       -0.004788  0.005131  1.000000  -0.423938      -0.021263   \n",
      "Longitude       0.036553 -0.000602 -0.423938   1.000000       0.013125   \n",
      "Re-inspection   0.010217  0.234658 -0.021263   0.013125       1.000000   \n",
      "nb_violation   -0.047462 -0.077218 -0.008335  -0.010284      -0.111713   \n",
      "\n",
      "               nb_violation  \n",
      "License #         -0.047462  \n",
      "Results           -0.077218  \n",
      "Latitude          -0.008335  \n",
      "Longitude         -0.010284  \n",
      "Re-inspection     -0.111713  \n",
      "nb_violation       1.000000  \n"
     ]
    },
    {
     "name": "stderr",
     "output_type": "stream",
     "text": [
      "C:\\Users\\ncpaa\\AppData\\Local\\Temp\\ipykernel_11160\\1449212874.py:1: FutureWarning: The default value of numeric_only in DataFrame.corr is deprecated. In a future version, it will default to False. Select only valid columns or specify the value of numeric_only to silence this warning.\n",
      "  correlations = data.corr()\n"
     ]
    }
   ],
   "source": [
    "correlations = data.corr()\n",
    "print(correlations)"
   ]
  },
  {
   "cell_type": "code",
   "execution_count": 164,
   "id": "3cdd92fa-a356-405f-af7b-c768123d2504",
   "metadata": {
    "scrolled": true
   },
   "outputs": [
    {
     "data": {
      "image/png": "[encoded data removed]",
      "text/plain": [
       "<Figure size 640x480 with 1 Axes>"
      ]
     },
     "metadata": {},
     "output_type": "display_data"
    },
    {
     "data": {
      "image/png": "[encoded data removed]",
      "text/plain": [
       "<Figure size 640x480 with 1 Axes>"
      ]
     },
     "metadata": {},
     "output_type": "display_data"
    },
    {
     "data": {
      "image/png": "[encoded data removed]",
      "text/plain": [
       "<Figure size 640x480 with 1 Axes>"
      ]
     },
     "metadata": {},
     "output_type": "display_data"
    },
    {
     "data": {
      "image/png": "[encoded data removed]",
      "text/plain": [
       "<Figure size 640x480 with 1 Axes>"
      ]
     },
     "metadata": {},
     "output_type": "display_data"
    },
    {
     "data": {
      "image/png": "[encoded data removed]",
      "text/plain": [
       "<Figure size 640x480 with 1 Axes>"
      ]
     },
     "metadata": {},
     "output_type": "display_data"
    },
    {
     "data": {
      "image/png": "[encoded data removed]",
      "text/plain": [
       "<Figure size 640x480 with 1 Axes>"
      ]
     },
     "metadata": {},
     "output_type": "display_data"
    },
    {
     "data": {
      "image/png": "[encoded data removed]",
      "text/plain": [
       "<Figure size 640x480 with 1 Axes>"
      ]
     },
     "metadata": {},
     "output_type": "display_data"
    },
    {
     "data": {
      "image/png": "[encoded data removed]",
      "text/plain": [
       "<Figure size 640x480 with 1 Axes>"
      ]
     },
     "metadata": {},
     "output_type": "display_data"
    }
   ],
   "source": [
    "numerical_columns = data.select_dtypes(include=['int', 'float']).columns\n",
    "for column in numerical_columns:\n",
    "    data.boxplot(column=column)\n",
    "    plt.show()"
   ]
  },
  {
   "cell_type": "code",
   "execution_count": 163,
   "id": "78923456-7eb4-44f3-a78e-49da66636080",
   "metadata": {},
   "outputs": [
    {
     "data": {
      "text/plain": [
       "388      169947\n",
       "215       35005\n",
       "407       15776\n",
       "111        5192\n",
       "Other      4112\n",
       "45         3609\n",
       "144        3373\n",
       "141        3067\n",
       "272        1806\n",
       "109        1569\n",
       "270        1093\n",
       "301         849\n",
       "300         846\n",
       "242         744\n",
       "213         713\n",
       "145         691\n",
       "450         546\n",
       "417         386\n",
       "143         311\n",
       "415         275\n",
       "410         261\n",
       "409         217\n",
       "164         188\n",
       "32          171\n",
       "412         125\n",
       "305         122\n",
       "67          121\n",
       "253         104\n",
       "Name: Facility Type, dtype: int64"
      ]
     },
     "execution_count": 163,
     "metadata": {},
     "output_type": "execute_result"
    }
   ],
   "source": [
    "data['Facility Type'].value_counts()"
   ]
  },
  {
   "cell_type": "code",
   "execution_count": 162,
   "id": "4cc94188-f48f-42ef-b857-129e5ce980d4",
   "metadata": {},
   "outputs": [],
   "source": [
    "threshold = 100  # This is just an example threshold\n",
    "value_counts = data['Facility Type'].value_counts()\n",
    "to_remove = value_counts[value_counts <= threshold].index\n",
    "data['Facility Type'].replace(to_remove, 'Other', inplace=True)"
   ]
  },
  {
   "cell_type": "code",
   "execution_count": 101,
   "id": "a011effd-cbfe-4767-aa59-db03b697e98b",
   "metadata": {
    "scrolled": true
   },
   "outputs": [
    {
     "name": "stdout",
     "output_type": "stream",
     "text": [
      "SUBWAY                        3449\n",
      "DUNKIN DONUTS                 1802\n",
      "MCDONALD'S                     719\n",
      "7-ELEVEN                       524\n",
      "CHIPOTLE MEXICAN GRILL         406\n",
      "                              ... \n",
      "WALGREENS #1031                  1\n",
      "SMILIN' JIM'S SALOON             1\n",
      "EL RANCHITO                      1\n",
      "JEWEL FOOD STORE #3089           1\n",
      "GREAT AMERICAN BAGEL, INC.       1\n",
      "Name: DBA Name, Length: 31392, dtype: int64\n"
     ]
    }
   ],
   "source": [
    "print(data['DBA Name'].value_counts())"
   ]
  },
  {
   "cell_type": "code",
   "execution_count": 166,
   "id": "49e1ce73-1b4f-404c-9724-aef02e681a80",
   "metadata": {},
   "outputs": [
    {
     "name": "stdout",
     "output_type": "stream",
     "text": [
      "<class 'pandas.core.frame.DataFrame'>\n",
      "Int64Index: 251219 entries, 0 to 255904\n",
      "Data columns (total 9 columns):\n",
      " #   Column           Non-Null Count   Dtype \n",
      "---  ------           --------------   ----- \n",
      " 0   DBA Name         251219 non-null  int64 \n",
      " 1   Facility Type    251219 non-null  object\n",
      " 2   Risk             251219 non-null  int64 \n",
      " 3   Zip              251219 non-null  int64 \n",
      " 4   Inspection Type  251219 non-null  int64 \n",
      " 5   Results          251219 non-null  int64 \n",
      " 6   Re-inspection    251219 non-null  int64 \n",
      " 7   Violation Codes  251219 non-null  int32 \n",
      " 8   nb_violation     251219 non-null  int64 \n",
      "dtypes: int32(1), int64(7), object(1)\n",
      "memory usage: 18.2+ MB\n"
     ]
    }
   ],
   "source": [
    "data.info()"
   ]
  },
  {
   "cell_type": "code",
   "execution_count": 142,
   "id": "eab2597c-b24f-4bf3-8159-8d99a4ec40f8",
   "metadata": {},
   "outputs": [
    {
     "data": {
      "text/plain": [
       "2    186526\n",
       "1     48057\n",
       "0     21322\n",
       "Name: Risk, dtype: int64"
      ]
     },
     "execution_count": 142,
     "metadata": {},
     "output_type": "execute_result"
    }
   ],
   "source": [
    "data.Risk.value_counts()"
   ]
  },
  {
   "cell_type": "code",
   "execution_count": 112,
   "id": "729c33e0-dd23-4631-a8bd-555d65b84f2b",
   "metadata": {},
   "outputs": [],
   "source": [
    "data.drop('Violations', axis = 1, inplace = True)"
   ]
  },
  {
   "cell_type": "code",
   "execution_count": 106,
   "id": "3ebb12f5-8c78-403c-9043-35b34a88955c",
   "metadata": {
    "scrolled": true
   },
   "outputs": [],
   "source": [
    "# Convert list of violation codes to string\n",
    "data['Violation Codes'] = data['Violation Codes'].apply(lambda x: ' '.join(map(str, x)))\n",
    "\n",
    "le = LabelEncoder()\n",
    "\n",
    "# Apply LabelEncoder\n",
    "data['Violation Codes'] = le.fit_transform(data['Violation Codes'])"
   ]
  },
  {
   "cell_type": "code",
   "execution_count": 168,
   "id": "e5542dca-aa3b-433c-b880-026c53150cf8",
   "metadata": {
    "scrolled": true
   },
   "outputs": [
    {
     "name": "stderr",
     "output_type": "stream",
     "text": [
      "C:\\Users\\ncpaa\\AppData\\Local\\Programs\\Python\\Python311\\Lib\\site-packages\\xgboost\\sklearn.py:1395: UserWarning: `use_label_encoder` is deprecated in 1.7.0.\n",
      "  warnings.warn(\"`use_label_encoder` is deprecated in 1.7.0.\")\n"
     ]
    },
    {
     "name": "stdout",
     "output_type": "stream",
     "text": [
      "              precision    recall  f1-score   support\n",
      "\n",
      "           0       0.73      0.84      0.78     33897\n",
      "           1       0.81      0.68      0.74     33940\n",
      "\n",
      "    accuracy                           0.76     67837\n",
      "   macro avg       0.77      0.76      0.76     67837\n",
      "weighted avg       0.77      0.76      0.76     67837\n",
      "\n",
      "              precision    recall  f1-score   support\n",
      "\n",
      "           0       0.89      0.95      0.92     33897\n",
      "           1       0.95      0.89      0.92     33940\n",
      "\n",
      "    accuracy                           0.92     67837\n",
      "   macro avg       0.92      0.92      0.92     67837\n",
      "weighted avg       0.92      0.92      0.92     67837\n",
      "\n",
      "              precision    recall  f1-score   support\n",
      "\n",
      "           0       0.72      0.83      0.77     33897\n",
      "           1       0.80      0.68      0.74     33940\n",
      "\n",
      "    accuracy                           0.76     67837\n",
      "   macro avg       0.76      0.76      0.76     67837\n",
      "weighted avg       0.76      0.76      0.76     67837\n",
      "\n",
      "              precision    recall  f1-score   support\n",
      "\n",
      "           0       0.86      0.92      0.89     33897\n",
      "           1       0.91      0.85      0.88     33940\n",
      "\n",
      "    accuracy                           0.88     67837\n",
      "   macro avg       0.89      0.88      0.88     67837\n",
      "weighted avg       0.89      0.88      0.88     67837\n",
      "\n"
     ]
    }
   ],
   "source": [
    "from sklearn.linear_model import SGDClassifier\n",
    "from sklearn.model_selection import GridSearchCV\n",
    "from xgboost import XGBClassifier\n",
    "import matplotlib.pyplot as plt\n",
    "\n",
    "categorical_features = [\"DBA Name\", \"Facility Type\", \"Risk\", \"Zip\", \"Inspection Type\"]\n",
    "numerical_features = [\"Re-inspection\", \"Violation Codes\", \"nb_violation\"]\n",
    "\n",
    "# combine categorical and numerical features\n",
    "features = categorical_features + numerical_features\n",
    "\n",
    "# apply label encoding for categorical features\n",
    "data[categorical_features] = data[categorical_features].astype(str).apply(lambda col: le.fit_transform(col))\n",
    "\n",
    "# Handle imbalance in target variable\n",
    "ros = RandomOverSampler(random_state=42)\n",
    "X_res, y_res = ros.fit_resample(data[features], data['Results'])  # use combined features here\n",
    "\n",
    "# Train-test split\n",
    "X_train, X_test, y_train, y_test = train_test_split(X_res, y_res, test_size=0.2, random_state=42)\n",
    "\n",
    "# Target encoding\n",
    "y_train = le.fit_transform(y_train)\n",
    "y_test = le.transform(y_test)\n",
    "\n",
    "# Models\n",
    "models = [\n",
    "    LogisticRegression(max_iter=1000),\n",
    "    RandomForestClassifier(),\n",
    "    SGDClassifier(),  \n",
    "    XGBClassifier(use_label_encoder=False, eval_metric='logloss')  # Add parameters to avoid warning\n",
    "]\n",
    "\n",
    "# Train and evaluate models\n",
    "for model in models:\n",
    "    model.fit(X_train, y_train)\n",
    "    predictions = model.predict(X_test)\n",
    "    print(classification_report(y_test, predictions))"
   ]
  },
  {
   "cell_type": "code",
   "execution_count": 118,
   "id": "5e7e10aa-e950-4b4e-8894-6b2094c46dd9",
   "metadata": {
    "scrolled": true
   },
   "outputs": [
    {
     "name": "stdout",
     "output_type": "stream",
     "text": [
      "Best parameters for Random Forest:  {'max_depth': None, 'min_samples_split': 2, 'n_estimators': 200}\n",
      "Best parameters for Logistic Regression:  {'C': 0.1, 'penalty': 'l2'}\n"
     ]
    },
    {
     "name": "stderr",
     "output_type": "stream",
     "text": [
      "C:\\Users\\ncpaa\\AppData\\Local\\Programs\\Python\\Python311\\Lib\\site-packages\\sklearn\\linear_model\\_stochastic_gradient.py:165: FutureWarning: The loss 'log' was deprecated in v1.1 and will be removed in version 1.3. Use `loss='log_loss'` which is equivalent.\n",
      "  warnings.warn(\n"
     ]
    },
    {
     "name": "stdout",
     "output_type": "stream",
     "text": [
      "Best parameters for SGD:  {'alpha': 0.01, 'loss': 'log', 'penalty': 'l2'}\n"
     ]
    },
    {
     "name": "stderr",
     "output_type": "stream",
     "text": [
      "C:\\Users\\ncpaa\\AppData\\Local\\Programs\\Python\\Python311\\Lib\\site-packages\\xgboost\\sklearn.py:1395: UserWarning: `use_label_encoder` is deprecated in 1.7.0.\n",
      "  warnings.warn(\"`use_label_encoder` is deprecated in 1.7.0.\")\n",
      "C:\\Users\\ncpaa\\AppData\\Local\\Programs\\Python\\Python311\\Lib\\site-packages\\xgboost\\sklearn.py:1395: UserWarning: `use_label_encoder` is deprecated in 1.7.0.\n",
      "  warnings.warn(\"`use_label_encoder` is deprecated in 1.7.0.\")\n",
      "C:\\Users\\ncpaa\\AppData\\Local\\Programs\\Python\\Python311\\Lib\\site-packages\\xgboost\\sklearn.py:1395: UserWarning: `use_label_encoder` is deprecated in 1.7.0.\n",
      "  warnings.warn(\"`use_label_encoder` is deprecated in 1.7.0.\")\n"
     ]
    },
    {
     "name": "stdout",
     "output_type": "stream",
     "text": [
      "Best parameters for XGBoost:  {'learning_rate': 0.1, 'max_depth': 6, 'n_estimators': 200}\n",
      "Feature: 0, Score: 0.10736\n",
      "Feature: 1, Score: 0.03404\n",
      "Feature: 2, Score: 0.01336\n",
      "Feature: 3, Score: 0.10317\n",
      "Feature: 4, Score: 0.05202\n",
      "Feature: 5, Score: 0.08850\n",
      "Feature: 6, Score: 0.47165\n",
      "Feature: 7, Score: 0.12990\n"
     ]
    },
    {
     "data": {
      "image/png": "[encoded data removed]",
      "text/plain": [
       "<Figure size 640x480 with 1 Axes>"
      ]
     },
     "metadata": {},
     "output_type": "display_data"
    }
   ],
   "source": [
    "# Hyperparameters grid for RandomForest\n",
    "rf_params = {\n",
    "    'n_estimators': [100, 200],\n",
    "    'max_depth': [None, 20],\n",
    "    'min_samples_split': [2, 5]\n",
    "}\n",
    "\n",
    "rf_grid = GridSearchCV(RandomForestClassifier(), rf_params, cv=3, n_jobs=-1)\n",
    "rf_grid.fit(X_train, y_train)\n",
    "\n",
    "print(\"Best parameters for Random Forest: \", rf_grid.best_params_)\n",
    "\n",
    "# Hyperparameters grid for Logistic Regression\n",
    "lr_params = {\n",
    "    'C': [0.1, 1, 10],\n",
    "    'penalty': ['l2']\n",
    "}\n",
    "\n",
    "lr_grid = GridSearchCV(LogisticRegression(max_iter=1000), lr_params, cv=3, n_jobs=-1)\n",
    "lr_grid.fit(X_train, y_train)\n",
    "\n",
    "print(\"Best parameters for Logistic Regression: \", lr_grid.best_params_)\n",
    "\n",
    "# Hyperparameters grid for SGD\n",
    "sgd_params = {\n",
    "    'alpha': [0.0001, 0.01, 1],\n",
    "    'loss': ['hinge', 'log'],\n",
    "    'penalty': ['l2']\n",
    "}\n",
    "\n",
    "sgd_grid = GridSearchCV(SGDClassifier(), sgd_params, cv=3, n_jobs=-1)\n",
    "sgd_grid.fit(X_train, y_train)\n",
    "\n",
    "print(\"Best parameters for SGD: \", sgd_grid.best_params_)\n",
    "\n",
    "# Hyperparameters grid for XGB\n",
    "xgb_params = {\n",
    "    'n_estimators': [100, 200],\n",
    "    'learning_rate': [0.01, 0.1],\n",
    "    'max_depth': [3, 6]\n",
    "}\n",
    "\n",
    "xgb_grid = GridSearchCV(XGBClassifier(use_label_encoder=False, eval_metric='logloss'), xgb_params, cv=3, n_jobs=-1)\n",
    "xgb_grid.fit(X_train, y_train)\n",
    "\n",
    "print(\"Best parameters for XGBoost: \", xgb_grid.best_params_)\n",
    "\n",
    "# Train the model with the best parameters\n",
    "rf_best = RandomForestClassifier(n_estimators=rf_grid.best_params_['n_estimators'],\n",
    "                                 max_depth=rf_grid.best_params_['max_depth'],\n",
    "                                 min_samples_split=rf_grid.best_params_['min_samples_split'])\n",
    "\n",
    "rf_best.fit(X_train, y_train)\n",
    "\n",
    "# Get importance\n",
    "importance = rf_best.feature_importances_\n",
    "\n",
    "# Summarize feature importance\n",
    "for i,v in enumerate(importance):\n",
    "    print('Feature: %0d, Score: %.5f' % (i,v))\n",
    "\n",
    "# Plot feature importance\n",
    "plt.bar([x for x in range(len(importance))], importance)\n",
    "plt.show()"
   ]
  },
  {
   "cell_type": "code",
   "execution_count": 169,
   "id": "ee2d3fe6-db95-4091-aa21-7169663ad3a4",
   "metadata": {},
   "outputs": [
    {
     "data": {
      "text/html": [
       "<style>#sk-container-id-3 {color: black;background-color: white;}#sk-container-id-3 pre{padding: 0;}#sk-container-id-3 div.sk-toggleable {background-color: white;}#sk-container-id-3 label.sk-toggleable__label {cursor: pointer;display: block;width: 100%;margin-bottom: 0;padding: 0.3em;box-sizing: border-box;text-align: center;}#sk-container-id-3 label.sk-toggleable__label-arrow:before {content: \"▸\";float: left;margin-right: 0.25em;color: #696969;}#sk-container-id-3 label.sk-toggleable__label-arrow:hover:before {color: black;}#sk-container-id-3 div.sk-estimator:hover label.sk-toggleable__label-arrow:before {color: black;}#sk-container-id-3 div.sk-toggleable__content {max-height: 0;max-width: 0;overflow: hidden;text-align: left;background-color: #f0f8ff;}#sk-container-id-3 div.sk-toggleable__content pre {margin: 0.2em;color: black;border-radius: 0.25em;background-color: #f0f8ff;}#sk-container-id-3 input.sk-toggleable__control:checked~div.sk-toggleable__content {max-height: 200px;max-width: 100%;overflow: auto;}#sk-container-id-3 input.sk-toggleable__control:checked~label.sk-toggleable__label-arrow:before {content: \"▾\";}#sk-container-id-3 div.sk-estimator input.sk-toggleable__control:checked~label.sk-toggleable__label {background-color: #d4ebff;}#sk-container-id-3 div.sk-label input.sk-toggleable__control:checked~label.sk-toggleable__label {background-color: #d4ebff;}#sk-container-id-3 input.sk-hidden--visually {border: 0;clip: rect(1px 1px 1px 1px);clip: rect(1px, 1px, 1px, 1px);height: 1px;margin: -1px;overflow: hidden;padding: 0;position: absolute;width: 1px;}#sk-container-id-3 div.sk-estimator {font-family: monospace;background-color: #f0f8ff;border: 1px dotted black;border-radius: 0.25em;box-sizing: border-box;margin-bottom: 0.5em;}#sk-container-id-3 div.sk-estimator:hover {background-color: #d4ebff;}#sk-container-id-3 div.sk-parallel-item::after {content: \"\";width: 100%;border-bottom: 1px solid gray;flex-grow: 1;}#sk-container-id-3 div.sk-label:hover label.sk-toggleable__label {background-color: #d4ebff;}#sk-container-id-3 div.sk-serial::before {content: \"\";position: absolute;border-left: 1px solid gray;box-sizing: border-box;top: 0;bottom: 0;left: 50%;z-index: 0;}#sk-container-id-3 div.sk-serial {display: flex;flex-direction: column;align-items: center;background-color: white;padding-right: 0.2em;padding-left: 0.2em;position: relative;}#sk-container-id-3 div.sk-item {position: relative;z-index: 1;}#sk-container-id-3 div.sk-parallel {display: flex;align-items: stretch;justify-content: center;background-color: white;position: relative;}#sk-container-id-3 div.sk-item::before, #sk-container-id-3 div.sk-parallel-item::before {content: \"\";position: absolute;border-left: 1px solid gray;box-sizing: border-box;top: 0;bottom: 0;left: 50%;z-index: -1;}#sk-container-id-3 div.sk-parallel-item {display: flex;flex-direction: column;z-index: 1;position: relative;background-color: white;}#sk-container-id-3 div.sk-parallel-item:first-child::after {align-self: flex-end;width: 50%;}#sk-container-id-3 div.sk-parallel-item:last-child::after {align-self: flex-start;width: 50%;}#sk-container-id-3 div.sk-parallel-item:only-child::after {width: 0;}#sk-container-id-3 div.sk-dashed-wrapped {border: 1px dashed gray;margin: 0 0.4em 0.5em 0.4em;box-sizing: border-box;padding-bottom: 0.4em;background-color: white;}#sk-container-id-3 div.sk-label label {font-family: monospace;font-weight: bold;display: inline-block;line-height: 1.2em;}#sk-container-id-3 div.sk-label-container {text-align: center;}#sk-container-id-3 div.sk-container {/* jupyter's `normalize.less` sets `[hidden] { display: none; }` but bootstrap.min.css set `[hidden] { display: none !important; }` so we also need the `!important` here to be able to override the default hidden behavior on the sphinx rendered scikit-learn.org. See: https://github.com/scikit-learn/scikit-learn/issues/21755 */display: inline-block !important;position: relative;}#sk-container-id-3 div.sk-text-repr-fallback {display: none;}</style><div id=\"sk-container-id-3\" class=\"sk-top-container\"><div class=\"sk-text-repr-fallback\"><pre>RandomForestClassifier(n_estimators=200)</pre><b>In a Jupyter environment, please rerun this cell to show the HTML representation or trust the notebook. <br />On GitHub, the HTML representation is unable to render, please try loading this page with nbviewer.org.</b></div><div class=\"sk-container\" hidden><div class=\"sk-item\"><div class=\"sk-estimator sk-toggleable\"><input class=\"sk-toggleable__control sk-hidden--visually\" id=\"sk-estimator-id-3\" type=\"checkbox\" checked><label for=\"sk-estimator-id-3\" class=\"sk-toggleable__label sk-toggleable__label-arrow\">RandomForestClassifier</label><div class=\"sk-toggleable__content\"><pre>RandomForestClassifier(n_estimators=200)</pre></div></div></div></div></div>"
      ],
      "text/plain": [
       "RandomForestClassifier(n_estimators=200)"
      ]
     },
     "execution_count": 169,
     "metadata": {},
     "output_type": "execute_result"
    }
   ],
   "source": [
    "rf_best = RandomForestClassifier(n_estimators=200,\n",
    "                                 max_depth=None,\n",
    "                                 min_samples_split=2)\n",
    "\n",
    "rf_best.fit(X_train, y_train)"
   ]
  },
  {
   "cell_type": "code",
   "execution_count": 170,
   "id": "3484ad0f-9780-4011-9474-da7a481835c7",
   "metadata": {},
   "outputs": [
    {
     "name": "stdout",
     "output_type": "stream",
     "text": [
      "Training Accuracy:  0.9896847187160257\n",
      "Test Accuracy:  0.919159160929876\n"
     ]
    }
   ],
   "source": [
    "training_accuracy = rf_best.score(X_train, y_train)\n",
    "test_accuracy = rf_best.score(X_test, y_test)\n",
    "\n",
    "print(\"Training Accuracy: \", training_accuracy)\n",
    "print(\"Test Accuracy: \", test_accuracy)"
   ]
  },
  {
   "cell_type": "code",
   "execution_count": 136,
   "id": "a49a899c-0c7a-451f-b902-9e5dc936df65",
   "metadata": {},
   "outputs": [
    {
     "name": "stdout",
     "output_type": "stream",
     "text": [
      "              precision    recall  f1-score   support\n",
      "\n",
      "           0       0.89      0.95      0.92     34204\n",
      "           1       0.95      0.89      0.92     34170\n",
      "\n",
      "    accuracy                           0.92     68374\n",
      "   macro avg       0.92      0.92      0.92     68374\n",
      "weighted avg       0.92      0.92      0.92     68374\n",
      "\n"
     ]
    }
   ],
   "source": [
    "from sklearn.metrics import classification_report\n",
    "\n",
    "rf_predictions = rf_best.predict(X_test)\n",
    "print(classification_report(y_test, rf_predictions))"
   ]
  },
  {
   "cell_type": "code",
   "execution_count": 119,
   "id": "9e638d8c-0565-41ff-a7f5-0454d5e2642e",
   "metadata": {},
   "outputs": [
    {
     "name": "stdout",
     "output_type": "stream",
     "text": [
      "Best accuracy for Random Forest:  0.899657763893375\n",
      "Best accuracy for Logistic Regression:  0.7607186958399555\n",
      "Best accuracy for SGD:  0.7257233952254483\n",
      "Best accuracy for XGBoost:  0.8808529625174927\n"
     ]
    }
   ],
   "source": [
    "# Print accuracy for RandomForest\n",
    "print(\"Best accuracy for Random Forest: \", rf_grid.best_score_)\n",
    "\n",
    "# Print accuracy for Logistic Regression\n",
    "print(\"Best accuracy for Logistic Regression: \", lr_grid.best_score_)\n",
    "\n",
    "# Print accuracy for SGD\n",
    "print(\"Best accuracy for SGD: \", sgd_grid.best_score_)\n",
    "\n",
    "# Print accuracy for XGBoost\n",
    "print(\"Best accuracy for XGBoost: \", xgb_grid.best_score_)"
   ]
  },
  {
   "cell_type": "code",
   "execution_count": null,
   "id": "904ab6b6-1db2-43dd-b0a4-5860ad49d399",
   "metadata": {},
   "outputs": [],
   "source": []
  }
 ],
 "metadata": {
  "kernelspec": {
   "display_name": "Python 3 (ipykernel)",
   "language": "python",
   "name": "python3"
  },
  "language_info": {
   "codemirror_mode": {
    "name": "ipython",
    "version": 3
   },
   "file_extension": ".py",
   "mimetype": "text/x-python",
   "name": "python",
   "nbconvert_exporter": "python",
   "pygments_lexer": "ipython3",
   "version": "3.11.4"
  }
 },
 "nbformat": 4,
 "nbformat_minor": 5
}
